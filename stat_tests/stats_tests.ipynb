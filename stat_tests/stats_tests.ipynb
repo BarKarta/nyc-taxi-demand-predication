{
 "cells": [
  {
   "cell_type": "markdown",
   "metadata": {},
   "source": [
    "Imports\n"
   ]
  },
  {
   "cell_type": "code",
   "execution_count": 3,
   "metadata": {},
   "outputs": [],
   "source": [
    "import pandas as pd\n",
    "from scipy import stats \n",
    "import numpy as np\n",
    "from statsmodels.stats.multitest import multipletests\n",
    "import matplotlib.pyplot as plt\n",
    "from scipy.stats import pearsonr\n",
    "from scipy.stats import spearmanr"
   ]
  },
  {
   "cell_type": "markdown",
   "metadata": {},
   "source": [
    "Load The Data\n"
   ]
  },
  {
   "cell_type": "code",
   "execution_count": 4,
   "metadata": {},
   "outputs": [
    {
     "data": {
      "text/html": [
       "<div>\n",
       "<style scoped>\n",
       "    .dataframe tbody tr th:only-of-type {\n",
       "        vertical-align: middle;\n",
       "    }\n",
       "\n",
       "    .dataframe tbody tr th {\n",
       "        vertical-align: top;\n",
       "    }\n",
       "\n",
       "    .dataframe thead th {\n",
       "        text-align: right;\n",
       "    }\n",
       "</style>\n",
       "<table border=\"1\" class=\"dataframe\">\n",
       "  <thead>\n",
       "    <tr style=\"text-align: right;\">\n",
       "      <th></th>\n",
       "      <th>pickup_date</th>\n",
       "      <th>weekday</th>\n",
       "      <th>isShort</th>\n",
       "      <th>time_binned</th>\n",
       "      <th>Tmax</th>\n",
       "      <th>Tmin</th>\n",
       "      <th>Tavg</th>\n",
       "      <th>Tdep</th>\n",
       "      <th>HDD</th>\n",
       "      <th>CDD</th>\n",
       "      <th>Precipitation</th>\n",
       "      <th>new_snow</th>\n",
       "      <th>snow_depth</th>\n",
       "      <th>trip_distance</th>\n",
       "      <th>trip_time</th>\n",
       "      <th>speed</th>\n",
       "      <th>num_of_taxis</th>\n",
       "    </tr>\n",
       "  </thead>\n",
       "  <tbody>\n",
       "    <tr>\n",
       "      <th>0</th>\n",
       "      <td>2019-01-01</td>\n",
       "      <td>Tuesday</td>\n",
       "      <td>0</td>\n",
       "      <td>00:00 - 00:59</td>\n",
       "      <td>58.0</td>\n",
       "      <td>39.0</td>\n",
       "      <td>48.5</td>\n",
       "      <td>13.3</td>\n",
       "      <td>16.0</td>\n",
       "      <td>0.0</td>\n",
       "      <td>0.06</td>\n",
       "      <td>0.0</td>\n",
       "      <td>0.0</td>\n",
       "      <td>2.236584</td>\n",
       "      <td>13.068116</td>\n",
       "      <td>11.315506</td>\n",
       "      <td>161</td>\n",
       "    </tr>\n",
       "    <tr>\n",
       "      <th>1</th>\n",
       "      <td>2019-01-01</td>\n",
       "      <td>Tuesday</td>\n",
       "      <td>0</td>\n",
       "      <td>01:00 - 01:59</td>\n",
       "      <td>58.0</td>\n",
       "      <td>39.0</td>\n",
       "      <td>48.5</td>\n",
       "      <td>13.3</td>\n",
       "      <td>16.0</td>\n",
       "      <td>0.0</td>\n",
       "      <td>0.06</td>\n",
       "      <td>0.0</td>\n",
       "      <td>0.0</td>\n",
       "      <td>2.295872</td>\n",
       "      <td>12.627035</td>\n",
       "      <td>11.605773</td>\n",
       "      <td>172</td>\n",
       "    </tr>\n",
       "    <tr>\n",
       "      <th>2</th>\n",
       "      <td>2019-01-01</td>\n",
       "      <td>Tuesday</td>\n",
       "      <td>0</td>\n",
       "      <td>02:00 - 02:59</td>\n",
       "      <td>58.0</td>\n",
       "      <td>39.0</td>\n",
       "      <td>48.5</td>\n",
       "      <td>13.3</td>\n",
       "      <td>16.0</td>\n",
       "      <td>0.0</td>\n",
       "      <td>0.06</td>\n",
       "      <td>0.0</td>\n",
       "      <td>0.0</td>\n",
       "      <td>2.389091</td>\n",
       "      <td>11.640476</td>\n",
       "      <td>12.789540</td>\n",
       "      <td>77</td>\n",
       "    </tr>\n",
       "    <tr>\n",
       "      <th>3</th>\n",
       "      <td>2019-01-01</td>\n",
       "      <td>Tuesday</td>\n",
       "      <td>0</td>\n",
       "      <td>03:00 - 03:59</td>\n",
       "      <td>58.0</td>\n",
       "      <td>39.0</td>\n",
       "      <td>48.5</td>\n",
       "      <td>13.3</td>\n",
       "      <td>16.0</td>\n",
       "      <td>0.0</td>\n",
       "      <td>0.06</td>\n",
       "      <td>0.0</td>\n",
       "      <td>0.0</td>\n",
       "      <td>2.350000</td>\n",
       "      <td>10.472619</td>\n",
       "      <td>13.967923</td>\n",
       "      <td>28</td>\n",
       "    </tr>\n",
       "    <tr>\n",
       "      <th>4</th>\n",
       "      <td>2019-01-01</td>\n",
       "      <td>Tuesday</td>\n",
       "      <td>0</td>\n",
       "      <td>04:00 - 04:59</td>\n",
       "      <td>58.0</td>\n",
       "      <td>39.0</td>\n",
       "      <td>48.5</td>\n",
       "      <td>13.3</td>\n",
       "      <td>16.0</td>\n",
       "      <td>0.0</td>\n",
       "      <td>0.06</td>\n",
       "      <td>0.0</td>\n",
       "      <td>0.0</td>\n",
       "      <td>2.254615</td>\n",
       "      <td>8.807692</td>\n",
       "      <td>15.428436</td>\n",
       "      <td>13</td>\n",
       "    </tr>\n",
       "    <tr>\n",
       "      <th>...</th>\n",
       "      <td>...</td>\n",
       "      <td>...</td>\n",
       "      <td>...</td>\n",
       "      <td>...</td>\n",
       "      <td>...</td>\n",
       "      <td>...</td>\n",
       "      <td>...</td>\n",
       "      <td>...</td>\n",
       "      <td>...</td>\n",
       "      <td>...</td>\n",
       "      <td>...</td>\n",
       "      <td>...</td>\n",
       "      <td>...</td>\n",
       "      <td>...</td>\n",
       "      <td>...</td>\n",
       "      <td>...</td>\n",
       "      <td>...</td>\n",
       "    </tr>\n",
       "    <tr>\n",
       "      <th>17515</th>\n",
       "      <td>2019-12-31</td>\n",
       "      <td>Tuesday</td>\n",
       "      <td>1</td>\n",
       "      <td>19:00 - 19:59</td>\n",
       "      <td>45.0</td>\n",
       "      <td>36.0</td>\n",
       "      <td>40.5</td>\n",
       "      <td>5.1</td>\n",
       "      <td>24.0</td>\n",
       "      <td>0.0</td>\n",
       "      <td>0.02</td>\n",
       "      <td>0.0</td>\n",
       "      <td>0.0</td>\n",
       "      <td>0.840947</td>\n",
       "      <td>5.359649</td>\n",
       "      <td>10.038636</td>\n",
       "      <td>190</td>\n",
       "    </tr>\n",
       "    <tr>\n",
       "      <th>17516</th>\n",
       "      <td>2019-12-31</td>\n",
       "      <td>Tuesday</td>\n",
       "      <td>1</td>\n",
       "      <td>20:00 - 20:59</td>\n",
       "      <td>45.0</td>\n",
       "      <td>36.0</td>\n",
       "      <td>40.5</td>\n",
       "      <td>5.1</td>\n",
       "      <td>24.0</td>\n",
       "      <td>0.0</td>\n",
       "      <td>0.02</td>\n",
       "      <td>0.0</td>\n",
       "      <td>0.0</td>\n",
       "      <td>0.846373</td>\n",
       "      <td>5.698944</td>\n",
       "      <td>9.385548</td>\n",
       "      <td>284</td>\n",
       "    </tr>\n",
       "    <tr>\n",
       "      <th>17517</th>\n",
       "      <td>2019-12-31</td>\n",
       "      <td>Tuesday</td>\n",
       "      <td>1</td>\n",
       "      <td>21:00 - 21:59</td>\n",
       "      <td>45.0</td>\n",
       "      <td>36.0</td>\n",
       "      <td>40.5</td>\n",
       "      <td>5.1</td>\n",
       "      <td>24.0</td>\n",
       "      <td>0.0</td>\n",
       "      <td>0.02</td>\n",
       "      <td>0.0</td>\n",
       "      <td>0.0</td>\n",
       "      <td>0.887850</td>\n",
       "      <td>5.446583</td>\n",
       "      <td>10.290132</td>\n",
       "      <td>200</td>\n",
       "    </tr>\n",
       "    <tr>\n",
       "      <th>17518</th>\n",
       "      <td>2019-12-31</td>\n",
       "      <td>Tuesday</td>\n",
       "      <td>1</td>\n",
       "      <td>22:00 - 22:59</td>\n",
       "      <td>45.0</td>\n",
       "      <td>36.0</td>\n",
       "      <td>40.5</td>\n",
       "      <td>5.1</td>\n",
       "      <td>24.0</td>\n",
       "      <td>0.0</td>\n",
       "      <td>0.02</td>\n",
       "      <td>0.0</td>\n",
       "      <td>0.0</td>\n",
       "      <td>0.920698</td>\n",
       "      <td>5.432429</td>\n",
       "      <td>10.497624</td>\n",
       "      <td>129</td>\n",
       "    </tr>\n",
       "    <tr>\n",
       "      <th>17519</th>\n",
       "      <td>2019-12-31</td>\n",
       "      <td>Tuesday</td>\n",
       "      <td>1</td>\n",
       "      <td>23:00 - 23:59</td>\n",
       "      <td>45.0</td>\n",
       "      <td>36.0</td>\n",
       "      <td>40.5</td>\n",
       "      <td>5.1</td>\n",
       "      <td>24.0</td>\n",
       "      <td>0.0</td>\n",
       "      <td>0.02</td>\n",
       "      <td>0.0</td>\n",
       "      <td>0.0</td>\n",
       "      <td>0.887500</td>\n",
       "      <td>5.117876</td>\n",
       "      <td>11.225821</td>\n",
       "      <td>124</td>\n",
       "    </tr>\n",
       "  </tbody>\n",
       "</table>\n",
       "<p>17436 rows × 17 columns</p>\n",
       "</div>"
      ],
      "text/plain": [
       "      pickup_date  weekday  isShort    time_binned  Tmax  Tmin  Tavg  Tdep  \\\n",
       "0      2019-01-01  Tuesday        0  00:00 - 00:59  58.0  39.0  48.5  13.3   \n",
       "1      2019-01-01  Tuesday        0  01:00 - 01:59  58.0  39.0  48.5  13.3   \n",
       "2      2019-01-01  Tuesday        0  02:00 - 02:59  58.0  39.0  48.5  13.3   \n",
       "3      2019-01-01  Tuesday        0  03:00 - 03:59  58.0  39.0  48.5  13.3   \n",
       "4      2019-01-01  Tuesday        0  04:00 - 04:59  58.0  39.0  48.5  13.3   \n",
       "...           ...      ...      ...            ...   ...   ...   ...   ...   \n",
       "17515  2019-12-31  Tuesday        1  19:00 - 19:59  45.0  36.0  40.5   5.1   \n",
       "17516  2019-12-31  Tuesday        1  20:00 - 20:59  45.0  36.0  40.5   5.1   \n",
       "17517  2019-12-31  Tuesday        1  21:00 - 21:59  45.0  36.0  40.5   5.1   \n",
       "17518  2019-12-31  Tuesday        1  22:00 - 22:59  45.0  36.0  40.5   5.1   \n",
       "17519  2019-12-31  Tuesday        1  23:00 - 23:59  45.0  36.0  40.5   5.1   \n",
       "\n",
       "        HDD  CDD  Precipitation  new_snow  snow_depth  trip_distance  \\\n",
       "0      16.0  0.0           0.06       0.0         0.0       2.236584   \n",
       "1      16.0  0.0           0.06       0.0         0.0       2.295872   \n",
       "2      16.0  0.0           0.06       0.0         0.0       2.389091   \n",
       "3      16.0  0.0           0.06       0.0         0.0       2.350000   \n",
       "4      16.0  0.0           0.06       0.0         0.0       2.254615   \n",
       "...     ...  ...            ...       ...         ...            ...   \n",
       "17515  24.0  0.0           0.02       0.0         0.0       0.840947   \n",
       "17516  24.0  0.0           0.02       0.0         0.0       0.846373   \n",
       "17517  24.0  0.0           0.02       0.0         0.0       0.887850   \n",
       "17518  24.0  0.0           0.02       0.0         0.0       0.920698   \n",
       "17519  24.0  0.0           0.02       0.0         0.0       0.887500   \n",
       "\n",
       "       trip_time      speed  num_of_taxis  \n",
       "0      13.068116  11.315506           161  \n",
       "1      12.627035  11.605773           172  \n",
       "2      11.640476  12.789540            77  \n",
       "3      10.472619  13.967923            28  \n",
       "4       8.807692  15.428436            13  \n",
       "...          ...        ...           ...  \n",
       "17515   5.359649  10.038636           190  \n",
       "17516   5.698944   9.385548           284  \n",
       "17517   5.446583  10.290132           200  \n",
       "17518   5.432429  10.497624           129  \n",
       "17519   5.117876  11.225821           124  \n",
       "\n",
       "[17436 rows x 17 columns]"
      ]
     },
     "execution_count": 4,
     "metadata": {},
     "output_type": "execute_result"
    }
   ],
   "source": [
    "main_df = pd.read_csv('Data\\\\Months_237\\\\post_proccess\\\\post_data_prep.csv')\n",
    "main_df.dropna(inplace=True)\n",
    "main_df['pickup_date'] = main_df['pickup_date'] = pd.to_datetime(main_df['pickup_date'])\n",
    "main_df"
   ]
  },
  {
   "cell_type": "markdown",
   "metadata": {},
   "source": [
    "Stats Test to find if there are different between Days\n"
   ]
  },
  {
   "cell_type": "code",
   "execution_count": 8,
   "metadata": {},
   "outputs": [
    {
     "data": {
      "text/html": [
       "<div>\n",
       "<style scoped>\n",
       "    .dataframe tbody tr th:only-of-type {\n",
       "        vertical-align: middle;\n",
       "    }\n",
       "\n",
       "    .dataframe tbody tr th {\n",
       "        vertical-align: top;\n",
       "    }\n",
       "\n",
       "    .dataframe thead th {\n",
       "        text-align: right;\n",
       "    }\n",
       "</style>\n",
       "<table border=\"1\" class=\"dataframe\">\n",
       "  <thead>\n",
       "    <tr style=\"text-align: right;\">\n",
       "      <th></th>\n",
       "      <th>pickup_date</th>\n",
       "      <th>num_of_taxis</th>\n",
       "      <th>weekday</th>\n",
       "    </tr>\n",
       "  </thead>\n",
       "  <tbody>\n",
       "    <tr>\n",
       "      <th>0</th>\n",
       "      <td>2019-01-01</td>\n",
       "      <td>3818</td>\n",
       "      <td>Tuesday</td>\n",
       "    </tr>\n",
       "    <tr>\n",
       "      <th>1</th>\n",
       "      <td>2019-01-02</td>\n",
       "      <td>6658</td>\n",
       "      <td>Wednesday</td>\n",
       "    </tr>\n",
       "  </tbody>\n",
       "</table>\n",
       "</div>"
      ],
      "text/plain": [
       "  pickup_date  num_of_taxis    weekday\n",
       "0  2019-01-01          3818    Tuesday\n",
       "1  2019-01-02          6658  Wednesday"
      ]
     },
     "execution_count": 8,
     "metadata": {},
     "output_type": "execute_result"
    }
   ],
   "source": [
    "uses_per_day = main_df\\\n",
    "    .groupby(['pickup_date'],as_index=False)\\\n",
    "    .agg({'num_of_taxis' : 'sum', 'weekday' : lambda x: x.iloc[1]})\n",
    "uses_per_day.head(2)"
   ]
  },
  {
   "cell_type": "code",
   "execution_count": 9,
   "metadata": {},
   "outputs": [],
   "source": [
    "week = {\n",
    "    'Monday':uses_per_day.loc[uses_per_day['weekday'] == 'Monday'].num_of_taxis.tolist(),\n",
    "    'Tuesday':uses_per_day.loc[uses_per_day['weekday'] == 'Tuesday'].num_of_taxis.tolist(),\n",
    "    'Wednesday':uses_per_day.loc[uses_per_day['weekday'] == 'Wednesday'].num_of_taxis.tolist(),\n",
    "    'Thursday':uses_per_day.loc[uses_per_day['weekday'] == 'Thursday'].num_of_taxis.tolist(),\n",
    "    'Friday':uses_per_day.loc[uses_per_day['weekday'] == 'Friday'].num_of_taxis.tolist(),\n",
    "    'Saturday':uses_per_day.loc[uses_per_day['weekday'] == 'Saturday'].num_of_taxis.tolist(),\n",
    "    'Sunday':uses_per_day.loc[uses_per_day['weekday'] == 'Sunday'].num_of_taxis.tolist()\n",
    "}"
   ]
  },
  {
   "cell_type": "code",
   "execution_count": 10,
   "metadata": {},
   "outputs": [
    {
     "name": "stdout",
     "output_type": "stream",
     "text": [
      "Probably different distributions\n"
     ]
    }
   ],
   "source": [
    "stat, p = stats.f_oneway(\n",
    "                        week.get('Sunday'),\n",
    "                        week.get('Monday'),\n",
    "                        week.get('Tuesday'),\n",
    "                        week.get('Wednesday'),\n",
    "                        week.get('Thursday'),\n",
    "                        week.get('Friday'),\n",
    "                        week.get('Saturday')\n",
    ")\n",
    "if p > 0.05:\n",
    "\tprint('Probably the same distribution')\n",
    "else:\n",
    "\tprint('Probably different distributions')"
   ]
  },
  {
   "cell_type": "code",
   "execution_count": 11,
   "metadata": {},
   "outputs": [
    {
     "name": "stdout",
     "output_type": "stream",
     "text": [
      "Monday and Friday probably have same distribution. P-Value = 0.13772456000380504\n",
      "Tuesday and Wednesday probably have same distribution. P-Value = 0.41159872356557126\n",
      "Tuesday and Thursday probably have same distribution. P-Value = 0.46742835281047146\n",
      "Wednesday and Thursday probably have same distribution. P-Value = 0.9960755135040782\n"
     ]
    }
   ],
   "source": [
    "duplicates_list = []\n",
    "for day1,value1 in week.items():\n",
    "    for day2,value2 in week.items():\n",
    "        if day1 == day2:\n",
    "            continue\n",
    "        stat, p = stats.ttest_ind(value1,value2)\n",
    "        if p > 0.05:\n",
    "            if(day2 + day1 not in duplicates_list):\n",
    "                duplicates_list.append(day1+day2)\n",
    "                print(f'{day1} and {day2} probably have same distribution. P-Value = {p}')"
   ]
  },
  {
   "cell_type": "code",
   "execution_count": null,
   "metadata": {},
   "outputs": [],
   "source": [
    "import itertools\n",
    "duplicates_list = []\n",
    "for itertools.product()\n",
    "for day1,value1 in week.items():\n",
    "    for day2,value2 in week.items():\n",
    "        if day1 == day2:\n",
    "            continue\n",
    "        stat, p = stats.ttest_ind(value1,value2)\n",
    "        if p > 0.05:\n",
    "            if(day2 + day1 not in duplicates_list):\n",
    "                duplicates_list.append(day1+day2)\n",
    "                print(f'{day1} and {day2} probably have same distribution. P-Value = {p}')"
   ]
  },
  {
   "cell_type": "code",
   "execution_count": 12,
   "metadata": {},
   "outputs": [
    {
     "data": {
      "image/png": "[encoded data removed]",
      "text/plain": [
       "<Figure size 432x288 with 1 Axes>"
      ]
     },
     "metadata": {
      "needs_background": "light"
     },
     "output_type": "display_data"
    }
   ],
   "source": [
    "keys = week.keys()\n",
    "values = week.values()\n",
    "values1 = []\n",
    "for val in values:\n",
    "    values1.append(np.mean(val))\n",
    "plt.bar(keys,values1,color = 'orange')\n",
    "plt.rcParams[\"figure.figsize\"] = (12,5)\n",
    "plt.xlabel('Day of the Week')\n",
    "plt.ylabel('AVG uses')\n",
    "plt.title('Uses of Taxi per WeekDay in 2019')\n",
    "plt.show()"
   ]
  },
  {
   "cell_type": "markdown",
   "metadata": {},
   "source": [
    "Is temperatures affecting the number of taxi users "
   ]
  },
  {
   "cell_type": "code",
   "execution_count": 13,
   "metadata": {},
   "outputs": [
    {
     "name": "stderr",
     "output_type": "stream",
     "text": [
      "C:\\Users\\barka\\AppData\\Local\\Programs\\Python\\Python37\\lib\\site-packages\\ipykernel_launcher.py:2: SettingWithCopyWarning: \n",
      "A value is trying to be set on a copy of a slice from a DataFrame.\n",
      "Try using .loc[row_indexer,col_indexer] = value instead\n",
      "\n",
      "See the caveats in the documentation: https://pandas.pydata.org/pandas-docs/stable/user_guide/indexing.html#returning-a-view-versus-a-copy\n",
      "  \n"
     ]
    },
    {
     "data": {
      "image/png": "[encoded data removed]",
      "text/plain": [
       "<Figure size 864x360 with 1 Axes>"
      ]
     },
     "metadata": {
      "needs_background": "light"
     },
     "output_type": "display_data"
    }
   ],
   "source": [
    "temp_df = main_df[['pickup_date','time_binned','Tmax','Tmin','Tavg','Precipitation','snow_depth','num_of_taxis']]\n",
    "temp_df['month'] = temp_df['pickup_date'].dt.month_name()\n",
    "summer = temp_df.loc[(temp_df['month'] == 'June') | (temp_df['month'] == 'July')]\n",
    "\n",
    "winter = temp_df.loc[(temp_df['month'] == 'December') | (temp_df['month'] == 'January') | (temp_df['month'] == 'February')]\n",
    "fall = temp_df.loc[(temp_df['month'] == 'September') | (temp_df['month'] == 'October') | (temp_df['month'] == 'November')]\n",
    "spring = temp_df.loc[(temp_df['month'] == 'March') | (temp_df['month'] == 'April') | (temp_df['month'] == 'May')]\n",
    "plt.hist(summer.Tavg)\n",
    "plt.title('Histogram of the temp in the summer')\n",
    "plt.show()"
   ]
  },
  {
   "cell_type": "markdown",
   "metadata": {},
   "source": [
    "First we try to find correlation between the AVG temperature and the number of taxis based on the entire dataset."
   ]
  },
  {
   "cell_type": "code",
   "execution_count": 14,
   "metadata": {},
   "outputs": [
    {
     "name": "stdout",
     "output_type": "stream",
     "text": [
      "Pearson Correlation:\n",
      "Correlation: -0.10722030438009339\n",
      "P-Value: 9.442433800986917e-46\n",
      "Spearman Correlation:\n",
      "Correlation: -0.09176807337303661\n",
      "P-Value: 6.301791510384596e-34\n"
     ]
    }
   ],
   "source": [
    "print('Pearson Correlation:')\n",
    "corr,p_value = pearsonr(temp_df['Tavg'],temp_df['num_of_taxis'])\n",
    "print('Correlation: '+str(corr))\n",
    "print('P-Value: '+str(p_value))\n",
    "print('Spearman Correlation:')\n",
    "corr,p_value = spearmanr(temp_df['Tavg'],temp_df['num_of_taxis'])\n",
    "print('Correlation: '+str(corr))\n",
    "print('P-Value: '+str(p_value))"
   ]
  },
  {
   "cell_type": "markdown",
   "metadata": {},
   "source": [
    "based on the whole year, we can see there is a low correlation, and that can be because the Tavg is an avg of the temp in the day, can be really cold at night but warm during the day.\n",
    "Because of that, we are going to find the correlation in a more specific way, for example we going to look at the max temperature during the noon at the summer only."
   ]
  },
  {
   "cell_type": "code",
   "execution_count": 15,
   "metadata": {},
   "outputs": [],
   "source": [
    "main_df['month'] = pd.to_datetime(main_df['pickup_date']).dt.month_name()\n",
    "noon = [\n",
    "            '12:00 - 12:59',\n",
    "            '13:00 - 13:59',\n",
    "            '14:00 - 14:59',\n",
    "            '15:00 - 15:59',\n",
    "            ]\n",
    "noon_summer_df = summer.loc[summer['time_binned'].isin(noon)]\n",
    "noon_winter_df = winter.loc[winter['time_binned'].isin(noon)]\n",
    "noon_fall_df = fall.loc[fall['time_binned'].isin(noon)]\n",
    "noon_spring_df = spring.loc[spring['time_binned'].isin(noon)]"
   ]
  },
  {
   "cell_type": "code",
   "execution_count": 16,
   "metadata": {},
   "outputs": [
    {
     "name": "stdout",
     "output_type": "stream",
     "text": [
      "~~~ SUMMER ~~~\n",
      "Pearson Correlation:\n",
      "Correlation: -0.18748690030747062\n",
      "P-Value: 3.071257481405461e-05\n",
      "Spearman Correlation:\n",
      "Correlation: -0.18592316304857245\n",
      "P-Value: 3.584772266560207e-05\n"
     ]
    }
   ],
   "source": [
    "print('~~~ SUMMER ~~~')\n",
    "noon_summer_df_correlation = noon_summer_df.dropna()._get_numeric_data()\n",
    "print('Pearson Correlation:')\n",
    "corr,p_value = pearsonr(noon_summer_df_correlation['Tmax'],noon_summer_df_correlation['num_of_taxis'])\n",
    "print('Correlation: '+str(corr))\n",
    "print('P-Value: '+str(p_value))\n",
    "print('Spearman Correlation:')\n",
    "corr,p_value = spearmanr(noon_summer_df_correlation['Tmax'],noon_summer_df_correlation['num_of_taxis'])\n",
    "print('Correlation: '+str(corr))\n",
    "print('P-Value: '+str(p_value))"
   ]
  },
  {
   "cell_type": "code",
   "execution_count": 17,
   "metadata": {},
   "outputs": [
    {
     "name": "stdout",
     "output_type": "stream",
     "text": [
      "~~~ SPRING ~~~\n",
      "Pearson Correlation:\n",
      "Correlation: -0.18748690030747062\n",
      "P-Value: 3.071257481405461e-05\n",
      "Spearman Correlation:\n",
      "Correlation: -0.18592316304857245\n",
      "P-Value: 3.584772266560207e-05\n"
     ]
    }
   ],
   "source": [
    "print('~~~ SPRING ~~~')\n",
    "noon_spring_df_correlation = noon_summer_df.dropna()._get_numeric_data()\n",
    "print('Pearson Correlation:')\n",
    "corr,p_value = pearsonr(noon_spring_df_correlation['Tmax'],noon_spring_df_correlation['num_of_taxis'])\n",
    "print('Correlation: '+str(corr))\n",
    "print('P-Value: '+str(p_value))\n",
    "print('Spearman Correlation:')\n",
    "corr,p_value = spearmanr(noon_spring_df_correlation['Tmax'],noon_spring_df_correlation['num_of_taxis'])\n",
    "print('Correlation: '+str(corr))\n",
    "print('P-Value: '+str(p_value))"
   ]
  },
  {
   "cell_type": "code",
   "execution_count": 18,
   "metadata": {},
   "outputs": [
    {
     "name": "stdout",
     "output_type": "stream",
     "text": [
      "~~~ WINTER ~~\n",
      "Pearson Correlation:\n",
      "Correlation: -0.12430035684485286\n",
      "P-Value: 0.0008302600324719973\n",
      "Spearman Correlation:\n",
      "Correlation: -0.16067270808994122\n",
      "P-Value: 1.4777077045987626e-05\n"
     ]
    }
   ],
   "source": [
    "print('~~~ WINTER ~~~')\n",
    "noon_winter_df_correlation = noon_winter_df.dropna()._get_numeric_data()\n",
    "print('Pearson Correlation:')\n",
    "corr,p_value = pearsonr(noon_winter_df_correlation['Tmax'],noon_winter_df_correlation['num_of_taxis'])\n",
    "print('Correlation: '+str(corr))\n",
    "print('P-Value: '+str(p_value))\n",
    "print('Spearman Correlation:')\n",
    "corr,p_value = spearmanr(noon_winter_df_correlation['Tmax'],noon_winter_df_correlation['num_of_taxis'])\n",
    "print('Correlation: '+str(corr))\n",
    "print('P-Value: '+str(p_value))"
   ]
  },
  {
   "cell_type": "code",
   "execution_count": 19,
   "metadata": {},
   "outputs": [
    {
     "name": "stdout",
     "output_type": "stream",
     "text": [
      "~ FALL ~\n",
      "Pearson Correlation:\n",
      "Correlation: -0.09453799650334924\n",
      "P-Value: 0.010707292557114952\n",
      "Spearman Correlation:\n",
      "Correlation: -0.12960351846915955\n",
      "P-Value: 0.00045544097683492923\n"
     ]
    }
   ],
   "source": [
    "print('~ FALL ~')\n",
    "noon_fall_df_correlation = noon_fall_df.dropna()._get_numeric_data()\n",
    "print('Pearson Correlation:')\n",
    "corr,p_value = pearsonr(noon_fall_df_correlation['Tmax'],noon_fall_df_correlation['num_of_taxis'])\n",
    "print('Correlation: '+str(corr))\n",
    "print('P-Value: '+str(p_value))\n",
    "print('Spearman Correlation:')\n",
    "corr,p_value = spearmanr(noon_fall_df_correlation['Tmax'],noon_fall_df_correlation['num_of_taxis'])\n",
    "print('Correlation: '+str(corr))\n",
    "print('P-Value: '+str(p_value))"
   ]
  },
  {
   "cell_type": "markdown",
   "metadata": {},
   "source": [
    "Correlation for each month"
   ]
  },
  {
   "cell_type": "code",
   "execution_count": 20,
   "metadata": {},
   "outputs": [
    {
     "name": "stdout",
     "output_type": "stream",
     "text": [
      "Correlation & P-Value between Tavg and Number of Taxis\n",
      "January :\n",
      "Correlation: -0.1167\n",
      "P-Value: 0.066498\n",
      "February :\n",
      "Correlation: -0.0760\n",
      "P-Value: 0.257361\n",
      "March :\n",
      "Correlation: -0.1583\n",
      "P-Value: 0.012541\n",
      "April :\n",
      "Correlation: -0.0813\n",
      "P-Value: 0.209713\n",
      "May :\n",
      "Correlation: -0.1472\n",
      "P-Value: 0.020363\n",
      "June :\n",
      "Correlation: -0.1386\n",
      "P-Value: 0.031872\n",
      "July :\n",
      "Correlation: -0.0825\n",
      "P-Value: 0.195525\n",
      "August :\n",
      "Correlation: 0.0573\n",
      "P-Value: 0.368706\n",
      "September :\n",
      "Correlation: -0.0337\n",
      "P-Value: 0.603009\n",
      "October :\n",
      "Correlation: -0.0049\n",
      "P-Value: 0.939139\n",
      "November :\n",
      "Correlation: 0.0240\n",
      "P-Value: 0.711020\n",
      "December :\n",
      "Correlation: -0.1600\n",
      "P-Value: 0.011632\n"
     ]
    }
   ],
   "source": [
    "months = ['January', 'February', 'March', 'April', 'May', 'June', 'July', 'August', 'September', 'October', 'November', 'December']\n",
    "noon_df = temp_df[temp_df['time_binned'].isin(noon)]\n",
    "print(\"Correlation & P-Value between Tavg and Number of Taxis\")\n",
    "for month in months:\n",
    "    month_df = noon_df.loc[noon_df['month'] == month].dropna()._get_numeric_data()\n",
    "    corr,p_value = pearsonr(month_df['Tmax'],month_df['num_of_taxis'])\n",
    "    print(f'{month} :')\n",
    "    print(f'Correlation: {format(corr,\"0.4f\")}')\n",
    "    print(f'P-Value: {format(p_value,\"0.6f\")}')"
   ]
  },
  {
   "cell_type": "code",
   "execution_count": 21,
   "metadata": {},
   "outputs": [
    {
     "data": {
      "text/plain": [
       "([412, 723, 775, 764, 461, 487, 709, 630],\n",
       " [343, 734, 684, 641, 388, 451, 570, 543])"
      ]
     },
     "execution_count": 21,
     "metadata": {},
     "output_type": "execute_result"
    }
   ],
   "source": [
    "two_to_three_summer_df = summer.loc[summer['time_binned'] == '14:00 - 14:59'].groupby('pickup_date',as_index=False).agg({\n",
    "    'Tmax':'mean',\n",
    "    'num_of_taxis':'sum'\n",
    "})\n",
    "hot_days =  []\n",
    "not_hot_days = []\n",
    "for i,row in two_to_three_summer_df.iterrows():\n",
    "    if i == len(two_to_three_summer_df)-7:\n",
    "        break\n",
    "    if row.Tmax >= 80 and two_to_three_summer_df.iloc[i+7].Tmax < 80:\n",
    "        hot_days.append(row.num_of_taxis)\n",
    "        not_hot_days.append(two_to_three_summer_df.iloc[i+7].num_of_taxis)\n",
    "hot_days,not_hot_days"
   ]
  },
  {
   "cell_type": "code",
   "execution_count": 22,
   "metadata": {},
   "outputs": [
    {
     "name": "stdout",
     "output_type": "stream",
     "text": [
      "number of usage in days <80F\n",
      "[343, 734, 684, 641, 388, 451, 570, 543]\n",
      "Mean: 544.25\n",
      "Median: 556.5\n"
     ]
    }
   ],
   "source": [
    "print('number of usage in days <80F')\n",
    "print(not_hot_days)\n",
    "print('Mean: ' + str(np.mean(not_hot_days)))\n",
    "print('Median: '+ str(np.median(not_hot_days)))"
   ]
  },
  {
   "cell_type": "code",
   "execution_count": 23,
   "metadata": {},
   "outputs": [
    {
     "name": "stdout",
     "output_type": "stream",
     "text": [
      "\n",
      "0.0013592613212946214\n",
      "H0 rejected\n"
     ]
    }
   ],
   "source": [
    "print('')\n",
    "stat,p = stats.ttest_rel(hot_days,not_hot_days,alternative='two-sided')\n",
    "print(p/2)\n",
    "if p < 0.05:\n",
    "    print('H0 rejected')"
   ]
  },
  {
   "cell_type": "code",
   "execution_count": 24,
   "metadata": {},
   "outputs": [
    {
     "name": "stdout",
     "output_type": "stream",
     "text": [
      "Wilcoxon Test\n",
      "P-Value: 0.0078125\n",
      "H0 rejected\n"
     ]
    }
   ],
   "source": [
    "print('Wilcoxon Test')\n",
    "stat, p = stats.wilcoxon(hot_days,not_hot_days)\n",
    "print('P-Value: ' + str(p/2))\n",
    "if p < 0.05:\n",
    "    print('H0 rejected')"
   ]
  },
  {
   "cell_type": "code",
   "execution_count": 25,
   "metadata": {},
   "outputs": [
    {
     "data": {
      "text/plain": [
       "([558,\n",
       "  528,\n",
       "  883,\n",
       "  923,\n",
       "  766,\n",
       "  723,\n",
       "  728,\n",
       "  733,\n",
       "  908,\n",
       "  699,\n",
       "  669,\n",
       "  384,\n",
       "  769,\n",
       "  725,\n",
       "  474,\n",
       "  635,\n",
       "  791,\n",
       "  772,\n",
       "  774,\n",
       "  838,\n",
       "  848,\n",
       "  905,\n",
       "  836,\n",
       "  680],\n",
       " [863,\n",
       "  479,\n",
       "  768,\n",
       "  714,\n",
       "  861,\n",
       "  663,\n",
       "  759,\n",
       "  787,\n",
       "  724,\n",
       "  435,\n",
       "  509,\n",
       "  440,\n",
       "  799,\n",
       "  819,\n",
       "  579,\n",
       "  772,\n",
       "  733,\n",
       "  716,\n",
       "  655,\n",
       "  582,\n",
       "  187,\n",
       "  439,\n",
       "  467,\n",
       "  381])"
      ]
     },
     "execution_count": 25,
     "metadata": {},
     "output_type": "execute_result"
    }
   ],
   "source": [
    "two_to_three_winter_df = winter.loc[winter['time_binned'] == '14:00 - 14:59'].groupby('pickup_date',as_index=False).agg({\n",
    "    'Tmax':'mean',\n",
    "    'num_of_taxis':'sum'\n",
    "})\n",
    "cold_days =  []\n",
    "not_cold_days = []\n",
    "for i,row in two_to_three_winter_df.iterrows():\n",
    "    if i == len(two_to_three_winter_df)-7:\n",
    "        break\n",
    "    if row.Tmax <= 40 and two_to_three_winter_df.iloc[i+7].Tmax > 40:\n",
    "        cold_days.append(row.num_of_taxis)\n",
    "        not_cold_days.append(two_to_three_winter_df.iloc[i+7].num_of_taxis)\n",
    "cold_days,not_cold_days"
   ]
  },
  {
   "cell_type": "code",
   "execution_count": 26,
   "metadata": {},
   "outputs": [
    {
     "name": "stdout",
     "output_type": "stream",
     "text": [
      "days >40F\n",
      "Mean: 630.4583333333334\n",
      "Median: 688.5\n"
     ]
    }
   ],
   "source": [
    "print('days >40F')\n",
    "print('Mean: ' + str(np.mean(not_cold_days)))\n",
    "print('Median: '+ str(np.median(not_cold_days)))"
   ]
  },
  {
   "cell_type": "code",
   "execution_count": 27,
   "metadata": {},
   "outputs": [
    {
     "data": {
      "text/plain": [
       "(731.2083333333334, 749.5)"
      ]
     },
     "execution_count": 27,
     "metadata": {},
     "output_type": "execute_result"
    }
   ],
   "source": [
    "np.mean(cold_days),np.median(cold_days)"
   ]
  },
  {
   "cell_type": "code",
   "execution_count": 28,
   "metadata": {},
   "outputs": [
    {
     "data": {
      "text/plain": [
       "(630.4583333333334, 688.5)"
      ]
     },
     "execution_count": 28,
     "metadata": {},
     "output_type": "execute_result"
    }
   ],
   "source": [
    "np.mean(not_cold_days),np.median(not_cold_days)"
   ]
  },
  {
   "cell_type": "code",
   "execution_count": 29,
   "metadata": {},
   "outputs": [
    {
     "name": "stdout",
     "output_type": "stream",
     "text": [
      "T-Test\n",
      "P-Value: 0.01556170790749541\n",
      "H0 rejected\n"
     ]
    }
   ],
   "source": [
    "print('T-Test')\n",
    "stat,p = stats.ttest_rel(cold_days,not_cold_days,alternative='two-sided')\n",
    "print('P-Value: '+str(p/2))\n",
    "if p < 0.05:\n",
    "    print('H0 rejected')"
   ]
  },
  {
   "cell_type": "code",
   "execution_count": 30,
   "metadata": {},
   "outputs": [
    {
     "name": "stdout",
     "output_type": "stream",
     "text": [
      "0.019740819931030273\n",
      "H0 rejected\n"
     ]
    }
   ],
   "source": [
    "stat, p = stats.wilcoxon(cold_days,not_cold_days,zero_method='wilcox')\n",
    "print(p/2)\n",
    "if p < 0.05:\n",
    "    print('H0 rejected')"
   ]
  },
  {
   "cell_type": "code",
   "execution_count": 31,
   "metadata": {},
   "outputs": [
    {
     "data": {
      "image/png": "[encoded data removed]",
      "text/plain": [
       "<Figure size 864x360 with 2 Axes>"
      ]
     },
     "metadata": {
      "needs_background": "light"
     },
     "output_type": "display_data"
    }
   ],
   "source": [
    "temp_per_month = temp_df.groupby('month',as_index=False,sort=False).agg({'num_of_taxis':'sum','Tavg':'mean'})\n",
    "temp_per_month\n",
    "fig, ax = plt.subplots(figsize=(12,5))\n",
    "temp_per_month.plot(y=['num_of_taxis'],kind='bar',color='orange',ax = ax)\n",
    "temp_per_month.plot(y=['Tavg'],kind='line',color='black',ax = ax,secondary_y=True)\n",
    "ax.set_xticklabels(temp_per_month['month'])\n",
    "plt.title('Number of uses per Month and Temperature')\n",
    "ax.legend(loc='upper right')\n",
    "plt.show()"
   ]
  },
  {
   "cell_type": "markdown",
   "metadata": {},
   "source": [
    "Stats Tests to find if there are different between hours\n"
   ]
  },
  {
   "cell_type": "code",
   "execution_count": 11,
   "metadata": {},
   "outputs": [
    {
     "data": {
      "text/html": [
       "<div>\n",
       "<style scoped>\n",
       "    .dataframe tbody tr th:only-of-type {\n",
       "        vertical-align: middle;\n",
       "    }\n",
       "\n",
       "    .dataframe tbody tr th {\n",
       "        vertical-align: top;\n",
       "    }\n",
       "\n",
       "    .dataframe thead th {\n",
       "        text-align: right;\n",
       "    }\n",
       "</style>\n",
       "<table border=\"1\" class=\"dataframe\">\n",
       "  <thead>\n",
       "    <tr style=\"text-align: right;\">\n",
       "      <th></th>\n",
       "      <th>time_binned</th>\n",
       "      <th>num_of_taxis</th>\n",
       "    </tr>\n",
       "  </thead>\n",
       "  <tbody>\n",
       "    <tr>\n",
       "      <th>0</th>\n",
       "      <td>00:00 - 00:59</td>\n",
       "      <td>26217</td>\n",
       "    </tr>\n",
       "    <tr>\n",
       "      <th>1</th>\n",
       "      <td>01:00 - 01:59</td>\n",
       "      <td>10882</td>\n",
       "    </tr>\n",
       "    <tr>\n",
       "      <th>2</th>\n",
       "      <td>02:00 - 02:59</td>\n",
       "      <td>5108</td>\n",
       "    </tr>\n",
       "    <tr>\n",
       "      <th>3</th>\n",
       "      <td>03:00 - 03:59</td>\n",
       "      <td>3326</td>\n",
       "    </tr>\n",
       "    <tr>\n",
       "      <th>4</th>\n",
       "      <td>04:00 - 04:59</td>\n",
       "      <td>3014</td>\n",
       "    </tr>\n",
       "    <tr>\n",
       "      <th>5</th>\n",
       "      <td>05:00 - 05:59</td>\n",
       "      <td>8406</td>\n",
       "    </tr>\n",
       "    <tr>\n",
       "      <th>6</th>\n",
       "      <td>06:00 - 06:59</td>\n",
       "      <td>34869</td>\n",
       "    </tr>\n",
       "    <tr>\n",
       "      <th>7</th>\n",
       "      <td>07:00 - 07:59</td>\n",
       "      <td>113056</td>\n",
       "    </tr>\n",
       "    <tr>\n",
       "      <th>8</th>\n",
       "      <td>08:00 - 08:59</td>\n",
       "      <td>148813</td>\n",
       "    </tr>\n",
       "    <tr>\n",
       "      <th>9</th>\n",
       "      <td>09:00 - 09:59</td>\n",
       "      <td>152962</td>\n",
       "    </tr>\n",
       "    <tr>\n",
       "      <th>10</th>\n",
       "      <td>10:00 - 10:59</td>\n",
       "      <td>161194</td>\n",
       "    </tr>\n",
       "    <tr>\n",
       "      <th>11</th>\n",
       "      <td>11:00 - 11:59</td>\n",
       "      <td>179965</td>\n",
       "    </tr>\n",
       "    <tr>\n",
       "      <th>12</th>\n",
       "      <td>12:00 - 12:59</td>\n",
       "      <td>197520</td>\n",
       "    </tr>\n",
       "    <tr>\n",
       "      <th>13</th>\n",
       "      <td>13:00 - 13:59</td>\n",
       "      <td>198224</td>\n",
       "    </tr>\n",
       "    <tr>\n",
       "      <th>14</th>\n",
       "      <td>14:00 - 14:59</td>\n",
       "      <td>221155</td>\n",
       "    </tr>\n",
       "    <tr>\n",
       "      <th>15</th>\n",
       "      <td>15:00 - 15:59</td>\n",
       "      <td>217381</td>\n",
       "    </tr>\n",
       "    <tr>\n",
       "      <th>16</th>\n",
       "      <td>16:00 - 16:59</td>\n",
       "      <td>193972</td>\n",
       "    </tr>\n",
       "    <tr>\n",
       "      <th>17</th>\n",
       "      <td>17:00 - 17:59</td>\n",
       "      <td>210406</td>\n",
       "    </tr>\n",
       "    <tr>\n",
       "      <th>18</th>\n",
       "      <td>18:00 - 18:59</td>\n",
       "      <td>220103</td>\n",
       "    </tr>\n",
       "    <tr>\n",
       "      <th>19</th>\n",
       "      <td>19:00 - 19:59</td>\n",
       "      <td>186313</td>\n",
       "    </tr>\n",
       "    <tr>\n",
       "      <th>20</th>\n",
       "      <td>20:00 - 20:59</td>\n",
       "      <td>151118</td>\n",
       "    </tr>\n",
       "    <tr>\n",
       "      <th>21</th>\n",
       "      <td>21:00 - 21:59</td>\n",
       "      <td>135466</td>\n",
       "    </tr>\n",
       "    <tr>\n",
       "      <th>22</th>\n",
       "      <td>22:00 - 22:59</td>\n",
       "      <td>103887</td>\n",
       "    </tr>\n",
       "    <tr>\n",
       "      <th>23</th>\n",
       "      <td>23:00 - 23:59</td>\n",
       "      <td>56486</td>\n",
       "    </tr>\n",
       "  </tbody>\n",
       "</table>\n",
       "</div>"
      ],
      "text/plain": [
       "      time_binned  num_of_taxis\n",
       "0   00:00 - 00:59         26217\n",
       "1   01:00 - 01:59         10882\n",
       "2   02:00 - 02:59          5108\n",
       "3   03:00 - 03:59          3326\n",
       "4   04:00 - 04:59          3014\n",
       "5   05:00 - 05:59          8406\n",
       "6   06:00 - 06:59         34869\n",
       "7   07:00 - 07:59        113056\n",
       "8   08:00 - 08:59        148813\n",
       "9   09:00 - 09:59        152962\n",
       "10  10:00 - 10:59        161194\n",
       "11  11:00 - 11:59        179965\n",
       "12  12:00 - 12:59        197520\n",
       "13  13:00 - 13:59        198224\n",
       "14  14:00 - 14:59        221155\n",
       "15  15:00 - 15:59        217381\n",
       "16  16:00 - 16:59        193972\n",
       "17  17:00 - 17:59        210406\n",
       "18  18:00 - 18:59        220103\n",
       "19  19:00 - 19:59        186313\n",
       "20  20:00 - 20:59        151118\n",
       "21  21:00 - 21:59        135466\n",
       "22  22:00 - 22:59        103887\n",
       "23  23:00 - 23:59         56486"
      ]
     },
     "execution_count": 11,
     "metadata": {},
     "output_type": "execute_result"
    }
   ],
   "source": [
    "uses_per_hour = main_df.groupby('time_binned',as_index=False).agg({'num_of_taxis':'sum'})\n",
    "uses_per_hour"
   ]
  },
  {
   "cell_type": "code",
   "execution_count": 33,
   "metadata": {},
   "outputs": [],
   "source": [
    "hours = main_df['time_binned'].explode().unique()\n",
    "hours_dict = {h:[] for h in hours}\n",
    "for hour in hours_dict:\n",
    "    hours_dict[hour] = main_df.loc[main_df['time_binned'] == hour].num_of_taxis.tolist()"
   ]
  },
  {
   "cell_type": "code",
   "execution_count": 34,
   "metadata": {},
   "outputs": [
    {
     "name": "stdout",
     "output_type": "stream",
     "text": [
      "Probably different distributions\n"
     ]
    }
   ],
   "source": [
    "stat,p = stats.kruskal(\n",
    "                        hours_dict.get('00:00 - 00:59'),\n",
    "                        hours_dict.get('01:00 - 01:59'),\n",
    "                        hours_dict.get('02:00 - 02:59'),\n",
    "                        hours_dict.get('03:00 - 03:59'),\n",
    "                        hours_dict.get('04:00 - 04:59'),\n",
    "                        hours_dict.get('05:00 - 05:59'),\n",
    "                        hours_dict.get('06:00 - 06:59'),\n",
    "                        hours_dict.get('07:00 - 07:59'),\n",
    "                        hours_dict.get('08:00 - 08:59'),\n",
    "                        hours_dict.get('09:00 - 09:59'),\n",
    "                        hours_dict.get('10:00 - 10:59'),\n",
    "                        hours_dict.get('11:00 - 11:59'),\n",
    "                        hours_dict.get('12:00 - 12:59'),\n",
    "                        hours_dict.get('13:00 - 13:59'),\n",
    "                        hours_dict.get('14:00 - 14:59'),\n",
    "                        hours_dict.get('15:00 - 15:59'),\n",
    "                        hours_dict.get('16:00 - 16:59'),\n",
    "                        hours_dict.get('17:00 - 17:59'),\n",
    "                        hours_dict.get('18:00 - 18:59'),\n",
    "                        hours_dict.get('19:00 - 19:59'),\n",
    "                        hours_dict.get('20:00 - 20:59'),\n",
    "                        hours_dict.get('21:00 - 21:59'),\n",
    "                        hours_dict.get('22:00 - 22:59'),\n",
    "                        hours_dict.get('23:00 - 23:59')\n",
    "                )\n",
    "if p > 0.05:\n",
    "\tprint('Probably the same distribution')\n",
    "else:\n",
    "\tprint('Probably different distributions')"
   ]
  },
  {
   "cell_type": "code",
   "execution_count": 35,
   "metadata": {},
   "outputs": [
    {
     "name": "stdout",
     "output_type": "stream",
     "text": [
      "07:00 - 07:59 and 22:00 - 22:59 probably have same distribution\n",
      "08:00 - 08:59 and 22:00 - 22:59 probably have same distribution\n",
      "09:00 - 09:59 and 21:00 - 21:59 probably have same distribution\n",
      "10:00 - 10:59 and 20:00 - 20:59 probably have same distribution\n",
      "12:00 - 12:59 and 13:00 - 13:59 probably have same distribution\n",
      "12:00 - 12:59 and 19:00 - 19:59 probably have same distribution\n",
      "13:00 - 13:59 and 16:00 - 16:59 probably have same distribution\n",
      "13:00 - 13:59 and 19:00 - 19:59 probably have same distribution\n",
      "14:00 - 14:59 and 15:00 - 15:59 probably have same distribution\n",
      "14:00 - 14:59 and 17:00 - 17:59 probably have same distribution\n",
      "14:00 - 14:59 and 18:00 - 18:59 probably have same distribution\n",
      "15:00 - 15:59 and 17:00 - 17:59 probably have same distribution\n",
      "15:00 - 15:59 and 18:00 - 18:59 probably have same distribution\n",
      "16:00 - 16:59 and 19:00 - 19:59 probably have same distribution\n",
      "17:00 - 17:59 and 18:00 - 18:59 probably have same distribution\n"
     ]
    }
   ],
   "source": [
    "duplicates_list = []\n",
    "raw_alpha = []\n",
    "hours_connections = []\n",
    "alpha = 0.05\n",
    "\n",
    "for hour1,val1 in hours_dict.items():\n",
    "    for hour2,val2 in hours_dict.items():\n",
    "        if hour1 == hour2:\n",
    "            continue\n",
    "        stat,p = stats.mannwhitneyu(val1,val2)\n",
    "        if hour2 + hour1 not in duplicates_list:\n",
    "            raw_alpha.append(p)\n",
    "            hours_connections.append(hour1+' '+hour2)\n",
    "            duplicates_list.append(hour1 + hour2)\n",
    "            if p > alpha:\n",
    "                print(f'{hour1} and {hour2} probably have same distribution')"
   ]
  },
  {
   "cell_type": "code",
   "execution_count": 36,
   "metadata": {},
   "outputs": [],
   "source": [
    "d = {'hours':hours_connections,'raw_alpha':raw_alpha}\n",
    "hours_p_value = pd.DataFrame(d)\n",
    "rejected, p_adjusted, _, alpha_corrected = multipletests(hours_p_value.raw_alpha,alpha=alpha,method = 'holm',is_sorted=False, returnsorted=False)\n"
   ]
  },
  {
   "cell_type": "code",
   "execution_count": 37,
   "metadata": {},
   "outputs": [
    {
     "data": {
      "text/html": [
       "<div>\n",
       "<style scoped>\n",
       "    .dataframe tbody tr th:only-of-type {\n",
       "        vertical-align: middle;\n",
       "    }\n",
       "\n",
       "    .dataframe tbody tr th {\n",
       "        vertical-align: top;\n",
       "    }\n",
       "\n",
       "    .dataframe thead th {\n",
       "        text-align: right;\n",
       "    }\n",
       "</style>\n",
       "<table border=\"1\" class=\"dataframe\">\n",
       "  <thead>\n",
       "    <tr style=\"text-align: right;\">\n",
       "      <th></th>\n",
       "      <th>hours</th>\n",
       "      <th>raw_alpha</th>\n",
       "    </tr>\n",
       "  </thead>\n",
       "  <tbody>\n",
       "    <tr>\n",
       "      <th>0</th>\n",
       "      <td>03:00 - 03:59 04:00 - 04:59</td>\n",
       "      <td>0.007862</td>\n",
       "    </tr>\n",
       "    <tr>\n",
       "      <th>1</th>\n",
       "      <td>07:00 - 07:59 22:00 - 22:59</td>\n",
       "      <td>0.070395</td>\n",
       "    </tr>\n",
       "    <tr>\n",
       "      <th>2</th>\n",
       "      <td>08:00 - 08:59 09:00 - 09:59</td>\n",
       "      <td>0.041813</td>\n",
       "    </tr>\n",
       "    <tr>\n",
       "      <th>3</th>\n",
       "      <td>08:00 - 08:59 22:00 - 22:59</td>\n",
       "      <td>0.162993</td>\n",
       "    </tr>\n",
       "    <tr>\n",
       "      <th>4</th>\n",
       "      <td>09:00 - 09:59 10:00 - 10:59</td>\n",
       "      <td>0.010946</td>\n",
       "    </tr>\n",
       "    <tr>\n",
       "      <th>5</th>\n",
       "      <td>09:00 - 09:59 21:00 - 21:59</td>\n",
       "      <td>0.340540</td>\n",
       "    </tr>\n",
       "    <tr>\n",
       "      <th>6</th>\n",
       "      <td>10:00 - 10:59 20:00 - 20:59</td>\n",
       "      <td>0.488813</td>\n",
       "    </tr>\n",
       "    <tr>\n",
       "      <th>7</th>\n",
       "      <td>10:00 - 10:59 21:00 - 21:59</td>\n",
       "      <td>0.017662</td>\n",
       "    </tr>\n",
       "    <tr>\n",
       "      <th>8</th>\n",
       "      <td>11:00 - 11:59 20:00 - 20:59</td>\n",
       "      <td>0.002475</td>\n",
       "    </tr>\n",
       "    <tr>\n",
       "      <th>9</th>\n",
       "      <td>12:00 - 12:59 13:00 - 13:59</td>\n",
       "      <td>0.307100</td>\n",
       "    </tr>\n",
       "    <tr>\n",
       "      <th>10</th>\n",
       "      <td>12:00 - 12:59 16:00 - 16:59</td>\n",
       "      <td>0.013969</td>\n",
       "    </tr>\n",
       "    <tr>\n",
       "      <th>11</th>\n",
       "      <td>12:00 - 12:59 19:00 - 19:59</td>\n",
       "      <td>0.426437</td>\n",
       "    </tr>\n",
       "    <tr>\n",
       "      <th>12</th>\n",
       "      <td>13:00 - 13:59 16:00 - 16:59</td>\n",
       "      <td>0.150795</td>\n",
       "    </tr>\n",
       "    <tr>\n",
       "      <th>13</th>\n",
       "      <td>13:00 - 13:59 19:00 - 19:59</td>\n",
       "      <td>0.993017</td>\n",
       "    </tr>\n",
       "    <tr>\n",
       "      <th>14</th>\n",
       "      <td>14:00 - 14:59 15:00 - 15:59</td>\n",
       "      <td>0.843321</td>\n",
       "    </tr>\n",
       "    <tr>\n",
       "      <th>15</th>\n",
       "      <td>14:00 - 14:59 17:00 - 17:59</td>\n",
       "      <td>0.779510</td>\n",
       "    </tr>\n",
       "    <tr>\n",
       "      <th>16</th>\n",
       "      <td>14:00 - 14:59 18:00 - 18:59</td>\n",
       "      <td>0.229718</td>\n",
       "    </tr>\n",
       "    <tr>\n",
       "      <th>17</th>\n",
       "      <td>15:00 - 15:59 17:00 - 17:59</td>\n",
       "      <td>0.945067</td>\n",
       "    </tr>\n",
       "    <tr>\n",
       "      <th>18</th>\n",
       "      <td>15:00 - 15:59 18:00 - 18:59</td>\n",
       "      <td>0.145608</td>\n",
       "    </tr>\n",
       "    <tr>\n",
       "      <th>19</th>\n",
       "      <td>16:00 - 16:59 19:00 - 19:59</td>\n",
       "      <td>0.351244</td>\n",
       "    </tr>\n",
       "    <tr>\n",
       "      <th>20</th>\n",
       "      <td>17:00 - 17:59 18:00 - 18:59</td>\n",
       "      <td>0.104296</td>\n",
       "    </tr>\n",
       "  </tbody>\n",
       "</table>\n",
       "</div>"
      ],
      "text/plain": [
       "                          hours  raw_alpha\n",
       "0   03:00 - 03:59 04:00 - 04:59   0.007862\n",
       "1   07:00 - 07:59 22:00 - 22:59   0.070395\n",
       "2   08:00 - 08:59 09:00 - 09:59   0.041813\n",
       "3   08:00 - 08:59 22:00 - 22:59   0.162993\n",
       "4   09:00 - 09:59 10:00 - 10:59   0.010946\n",
       "5   09:00 - 09:59 21:00 - 21:59   0.340540\n",
       "6   10:00 - 10:59 20:00 - 20:59   0.488813\n",
       "7   10:00 - 10:59 21:00 - 21:59   0.017662\n",
       "8   11:00 - 11:59 20:00 - 20:59   0.002475\n",
       "9   12:00 - 12:59 13:00 - 13:59   0.307100\n",
       "10  12:00 - 12:59 16:00 - 16:59   0.013969\n",
       "11  12:00 - 12:59 19:00 - 19:59   0.426437\n",
       "12  13:00 - 13:59 16:00 - 16:59   0.150795\n",
       "13  13:00 - 13:59 19:00 - 19:59   0.993017\n",
       "14  14:00 - 14:59 15:00 - 15:59   0.843321\n",
       "15  14:00 - 14:59 17:00 - 17:59   0.779510\n",
       "16  14:00 - 14:59 18:00 - 18:59   0.229718\n",
       "17  15:00 - 15:59 17:00 - 17:59   0.945067\n",
       "18  15:00 - 15:59 18:00 - 18:59   0.145608\n",
       "19  16:00 - 16:59 19:00 - 19:59   0.351244\n",
       "20  17:00 - 17:59 18:00 - 18:59   0.104296"
      ]
     },
     "execution_count": 37,
     "metadata": {},
     "output_type": "execute_result"
    }
   ],
   "source": [
    "hours_with_same_dist_bonferroni = hours_p_value.loc[np.invert(rejected)]\n",
    "hours_with_same_dist_bonferroni.reset_index(inplace=True,drop=True)\n",
    "hours_with_same_dist_bonferroni"
   ]
  },
  {
   "cell_type": "code",
   "execution_count": 15,
   "metadata": {},
   "outputs": [
    {
     "data": {
      "image/png": "[encoded data removed]",
      "text/plain": [
       "<Figure size 432x288 with 1 Axes>"
      ]
     },
     "metadata": {
      "needs_background": "light"
     },
     "output_type": "display_data"
    }
   ],
   "source": [
    "uses_per_hour.plot('time_binned', 'num_of_taxis', kind='bar', rot=90,color='orange')\n",
    "plt.title('Number of uses per Hour')\n",
    "plt.xlabel('Times in the Day')\n",
    "plt.ylabel('Number of uses')\n",
    "plt.show()"
   ]
  },
  {
   "cell_type": "code",
   "execution_count": 12,
   "metadata": {},
   "outputs": [],
   "source": [
    "def is_normal(data):\n",
    "    stat, p = stats.shapiro(data)\n",
    "    print('Statistics=%.3f, p=%.3f' % (stat, p))\n",
    "    # interpret\n",
    "    alpha = 0.05\n",
    "    if p > alpha:\n",
    "        print('Sample looks Gaussian (fail to reject H0)')\n",
    "    else:\n",
    "        print('Sample does not look Gaussian (reject H0)')"
   ]
  },
  {
   "cell_type": "code",
   "execution_count": 17,
   "metadata": {},
   "outputs": [
    {
     "name": "stdout",
     "output_type": "stream",
     "text": [
      "Statistics=0.865, p=0.004\n",
      "Sample does not look Gaussian (reject H0)\n"
     ]
    }
   ],
   "source": [
    "is_normal(uses_per_hour['num_of_taxis'])"
   ]
  }
 ],
 "metadata": {
  "kernelspec": {
   "display_name": "Python 3.10.3 64-bit",
   "language": "python",
   "name": "python3"
  },
  "language_info": {
   "codemirror_mode": {
    "name": "ipython",
    "version": 3
   },
   "file_extension": ".py",
   "mimetype": "text/x-python",
   "name": "python",
   "nbconvert_exporter": "python",
   "pygments_lexer": "ipython3",
   "version": "3.10.3"
  },
  "orig_nbformat": 4,
  "vscode": {
   "interpreter": {
    "hash": "f84aa2f6f16df8c9b1fc121cce14a4918ffa03f11977acd10a36cb0c577712fa"
   }
  }
 },
 "nbformat": 4,
 "nbformat_minor": 2
}
