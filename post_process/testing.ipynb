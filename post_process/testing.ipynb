{
 "cells": [
  {
   "cell_type": "code",
   "execution_count": 83,
   "metadata": {},
   "outputs": [],
   "source": [
    "import pandas as pd"
   ]
  },
  {
   "cell_type": "code",
   "execution_count": 84,
   "metadata": {},
   "outputs": [],
   "source": [
    "df = pd.read_csv(r'C:\\Users\\barka\\OneDrive\\post_data_prep_all_zones.csv')"
   ]
  },
  {
   "cell_type": "code",
   "execution_count": 85,
   "metadata": {},
   "outputs": [
    {
     "data": {
      "text/html": [
       "<div>\n",
       "<style scoped>\n",
       "    .dataframe tbody tr th:only-of-type {\n",
       "        vertical-align: middle;\n",
       "    }\n",
       "\n",
       "    .dataframe tbody tr th {\n",
       "        vertical-align: top;\n",
       "    }\n",
       "\n",
       "    .dataframe thead th {\n",
       "        text-align: right;\n",
       "    }\n",
       "</style>\n",
       "<table border=\"1\" class=\"dataframe\">\n",
       "  <thead>\n",
       "    <tr style=\"text-align: right;\">\n",
       "      <th></th>\n",
       "      <th>pickup_date</th>\n",
       "      <th>weekday</th>\n",
       "      <th>time_binned</th>\n",
       "      <th>Tmax</th>\n",
       "      <th>Tmin</th>\n",
       "      <th>Tavg</th>\n",
       "      <th>Tdep</th>\n",
       "      <th>HDD</th>\n",
       "      <th>CDD</th>\n",
       "      <th>Precipitation</th>\n",
       "      <th>new_snow</th>\n",
       "      <th>snow_depth</th>\n",
       "      <th>trip_distance</th>\n",
       "      <th>trip_time</th>\n",
       "      <th>speed</th>\n",
       "      <th>num_of_taxis</th>\n",
       "      <th>Zone</th>\n",
       "    </tr>\n",
       "  </thead>\n",
       "  <tbody>\n",
       "    <tr>\n",
       "      <th>0</th>\n",
       "      <td>2019-01-01</td>\n",
       "      <td>Tuesday</td>\n",
       "      <td>00:00 - 00:59</td>\n",
       "      <td>58.0</td>\n",
       "      <td>39.0</td>\n",
       "      <td>48.5</td>\n",
       "      <td>13.3</td>\n",
       "      <td>16.0</td>\n",
       "      <td>0.0</td>\n",
       "      <td>0.06</td>\n",
       "      <td>0.0</td>\n",
       "      <td>0.0</td>\n",
       "      <td>2.543171</td>\n",
       "      <td>11.890650</td>\n",
       "      <td>12.167499</td>\n",
       "      <td>41</td>\n",
       "      <td>4</td>\n",
       "    </tr>\n",
       "    <tr>\n",
       "      <th>1</th>\n",
       "      <td>2019-01-01</td>\n",
       "      <td>Tuesday</td>\n",
       "      <td>01:00 - 01:59</td>\n",
       "      <td>58.0</td>\n",
       "      <td>39.0</td>\n",
       "      <td>48.5</td>\n",
       "      <td>13.3</td>\n",
       "      <td>16.0</td>\n",
       "      <td>0.0</td>\n",
       "      <td>0.06</td>\n",
       "      <td>0.0</td>\n",
       "      <td>0.0</td>\n",
       "      <td>2.842436</td>\n",
       "      <td>14.737821</td>\n",
       "      <td>11.223936</td>\n",
       "      <td>78</td>\n",
       "      <td>4</td>\n",
       "    </tr>\n",
       "    <tr>\n",
       "      <th>2</th>\n",
       "      <td>2019-01-01</td>\n",
       "      <td>Tuesday</td>\n",
       "      <td>02:00 - 02:59</td>\n",
       "      <td>58.0</td>\n",
       "      <td>39.0</td>\n",
       "      <td>48.5</td>\n",
       "      <td>13.3</td>\n",
       "      <td>16.0</td>\n",
       "      <td>0.0</td>\n",
       "      <td>0.06</td>\n",
       "      <td>0.0</td>\n",
       "      <td>0.0</td>\n",
       "      <td>2.235484</td>\n",
       "      <td>11.183333</td>\n",
       "      <td>11.346154</td>\n",
       "      <td>62</td>\n",
       "      <td>4</td>\n",
       "    </tr>\n",
       "    <tr>\n",
       "      <th>3</th>\n",
       "      <td>2019-01-01</td>\n",
       "      <td>Tuesday</td>\n",
       "      <td>03:00 - 03:59</td>\n",
       "      <td>58.0</td>\n",
       "      <td>39.0</td>\n",
       "      <td>48.5</td>\n",
       "      <td>13.3</td>\n",
       "      <td>16.0</td>\n",
       "      <td>0.0</td>\n",
       "      <td>0.06</td>\n",
       "      <td>0.0</td>\n",
       "      <td>0.0</td>\n",
       "      <td>2.640308</td>\n",
       "      <td>11.701795</td>\n",
       "      <td>12.651760</td>\n",
       "      <td>65</td>\n",
       "      <td>4</td>\n",
       "    </tr>\n",
       "    <tr>\n",
       "      <th>4</th>\n",
       "      <td>2019-01-01</td>\n",
       "      <td>Tuesday</td>\n",
       "      <td>04:00 - 04:59</td>\n",
       "      <td>58.0</td>\n",
       "      <td>39.0</td>\n",
       "      <td>48.5</td>\n",
       "      <td>13.3</td>\n",
       "      <td>16.0</td>\n",
       "      <td>0.0</td>\n",
       "      <td>0.06</td>\n",
       "      <td>0.0</td>\n",
       "      <td>0.0</td>\n",
       "      <td>2.635000</td>\n",
       "      <td>11.158889</td>\n",
       "      <td>13.186688</td>\n",
       "      <td>30</td>\n",
       "      <td>4</td>\n",
       "    </tr>\n",
       "  </tbody>\n",
       "</table>\n",
       "</div>"
      ],
      "text/plain": [
       "  pickup_date  weekday    time_binned  Tmax  Tmin  Tavg  Tdep   HDD  CDD  \\\n",
       "0  2019-01-01  Tuesday  00:00 - 00:59  58.0  39.0  48.5  13.3  16.0  0.0   \n",
       "1  2019-01-01  Tuesday  01:00 - 01:59  58.0  39.0  48.5  13.3  16.0  0.0   \n",
       "2  2019-01-01  Tuesday  02:00 - 02:59  58.0  39.0  48.5  13.3  16.0  0.0   \n",
       "3  2019-01-01  Tuesday  03:00 - 03:59  58.0  39.0  48.5  13.3  16.0  0.0   \n",
       "4  2019-01-01  Tuesday  04:00 - 04:59  58.0  39.0  48.5  13.3  16.0  0.0   \n",
       "\n",
       "   Precipitation  new_snow  snow_depth  trip_distance  trip_time      speed  \\\n",
       "0           0.06       0.0         0.0       2.543171  11.890650  12.167499   \n",
       "1           0.06       0.0         0.0       2.842436  14.737821  11.223936   \n",
       "2           0.06       0.0         0.0       2.235484  11.183333  11.346154   \n",
       "3           0.06       0.0         0.0       2.640308  11.701795  12.651760   \n",
       "4           0.06       0.0         0.0       2.635000  11.158889  13.186688   \n",
       "\n",
       "   num_of_taxis  Zone  \n",
       "0            41     4  \n",
       "1            78     4  \n",
       "2            62     4  \n",
       "3            65     4  \n",
       "4            30     4  "
      ]
     },
     "execution_count": 85,
     "metadata": {},
     "output_type": "execute_result"
    }
   ],
   "source": [
    "df.head()"
   ]
  },
  {
   "cell_type": "code",
   "execution_count": 86,
   "metadata": {},
   "outputs": [],
   "source": [
    "df = df.drop(df[df.trip_time < 5].index)\n",
    "df = df.drop('pickup_date',axis=1)\n",
    "df.reset_index(inplace=True)"
   ]
  },
  {
   "cell_type": "code",
   "execution_count": 89,
   "metadata": {},
   "outputs": [],
   "source": [
    "weekday_dummy = pd.get_dummies(df['weekday'])\n",
    "time_binned_dummy = pd.get_dummies(df['time_binned'])\n",
    "dummies = pd.merge(left=weekday_dummy,right=time_binned_dummy,left_index=True,right_index=True)\n",
    "df = pd.merge(left=dummies,right=df,left_index=True,right_index=True)\n",
    "df = df.drop(['weekday','time_binned'],axis=1)"
   ]
  },
  {
   "cell_type": "code",
   "execution_count": 90,
   "metadata": {},
   "outputs": [
    {
     "name": "stdout",
     "output_type": "stream",
     "text": [
      "Index(['Friday', 'Monday', 'Saturday', 'Sunday', 'Thursday', 'Tuesday',\n",
      "       'Wednesday', '00:00 - 00:59', '01:00 - 01:59', '02:00 - 02:59',\n",
      "       '03:00 - 03:59', '04:00 - 04:59', '05:00 - 05:59', '06:00 - 06:59',\n",
      "       '07:00 - 07:59', '08:00 - 08:59', '09:00 - 09:59', '10:00 - 10:59',\n",
      "       '11:00 - 11:59', '12:00 - 12:59', '13:00 - 13:59', '14:00 - 14:59',\n",
      "       '15:00 - 15:59', '16:00 - 16:59', '17:00 - 17:59', '18:00 - 18:59',\n",
      "       '19:00 - 19:59', '20:00 - 20:59', '21:00 - 21:59', '22:00 - 22:59',\n",
      "       '23:00 - 23:59', 'index', 'Tmax', 'Tmin', 'Tavg', 'Tdep', 'HDD', 'CDD',\n",
      "       'Precipitation', 'new_snow', 'snow_depth', 'trip_distance', 'trip_time',\n",
      "       'speed', 'num_of_taxis', 'Zone'],\n",
      "      dtype='object')\n"
     ]
    }
   ],
   "source": [
    "print(df.columns)"
   ]
  },
  {
   "cell_type": "code",
   "execution_count": 68,
   "metadata": {},
   "outputs": [],
   "source": [
    "# Rearrange the cols\n",
    "cols = df.columns.to_list()\n",
    "cols = cols[-1:] + cols[:-1]\n",
    "df = df[cols]"
   ]
  },
  {
   "cell_type": "code",
   "execution_count": 69,
   "metadata": {},
   "outputs": [],
   "source": [
    "trip_time = df['trip_time'].tolist()"
   ]
  },
  {
   "cell_type": "code",
   "execution_count": 70,
   "metadata": {},
   "outputs": [
    {
     "name": "stdout",
     "output_type": "stream",
     "text": [
      "5.0 ~ 62.8\n"
     ]
    }
   ],
   "source": [
    "print(f'{min(trip_time)} ~ {max(trip_time)}')"
   ]
  },
  {
   "cell_type": "code",
   "execution_count": 71,
   "metadata": {},
   "outputs": [
    {
     "data": {
      "text/html": [
       "<div>\n",
       "<style scoped>\n",
       "    .dataframe tbody tr th:only-of-type {\n",
       "        vertical-align: middle;\n",
       "    }\n",
       "\n",
       "    .dataframe tbody tr th {\n",
       "        vertical-align: top;\n",
       "    }\n",
       "\n",
       "    .dataframe thead th {\n",
       "        text-align: right;\n",
       "    }\n",
       "</style>\n",
       "<table border=\"1\" class=\"dataframe\">\n",
       "  <thead>\n",
       "    <tr style=\"text-align: right;\">\n",
       "      <th></th>\n",
       "      <th>Zone</th>\n",
       "      <th>Friday</th>\n",
       "      <th>Monday</th>\n",
       "      <th>Saturday</th>\n",
       "      <th>Sunday</th>\n",
       "      <th>Thursday</th>\n",
       "      <th>Tuesday</th>\n",
       "      <th>Wednesday</th>\n",
       "      <th>00:00 - 00:59</th>\n",
       "      <th>01:00 - 01:59</th>\n",
       "      <th>...</th>\n",
       "      <th>Tdep</th>\n",
       "      <th>HDD</th>\n",
       "      <th>CDD</th>\n",
       "      <th>Precipitation</th>\n",
       "      <th>new_snow</th>\n",
       "      <th>snow_depth</th>\n",
       "      <th>trip_distance</th>\n",
       "      <th>trip_time</th>\n",
       "      <th>speed</th>\n",
       "      <th>num_of_taxis</th>\n",
       "    </tr>\n",
       "  </thead>\n",
       "  <tbody>\n",
       "    <tr>\n",
       "      <th>0</th>\n",
       "      <td>4</td>\n",
       "      <td>0</td>\n",
       "      <td>0</td>\n",
       "      <td>0</td>\n",
       "      <td>0</td>\n",
       "      <td>0</td>\n",
       "      <td>1</td>\n",
       "      <td>0</td>\n",
       "      <td>1</td>\n",
       "      <td>0</td>\n",
       "      <td>...</td>\n",
       "      <td>13.3</td>\n",
       "      <td>16.0</td>\n",
       "      <td>0.0</td>\n",
       "      <td>0.06</td>\n",
       "      <td>0.0</td>\n",
       "      <td>0.0</td>\n",
       "      <td>2.543171</td>\n",
       "      <td>11.890650</td>\n",
       "      <td>12.167499</td>\n",
       "      <td>41</td>\n",
       "    </tr>\n",
       "    <tr>\n",
       "      <th>1</th>\n",
       "      <td>4</td>\n",
       "      <td>0</td>\n",
       "      <td>0</td>\n",
       "      <td>0</td>\n",
       "      <td>0</td>\n",
       "      <td>0</td>\n",
       "      <td>1</td>\n",
       "      <td>0</td>\n",
       "      <td>0</td>\n",
       "      <td>1</td>\n",
       "      <td>...</td>\n",
       "      <td>13.3</td>\n",
       "      <td>16.0</td>\n",
       "      <td>0.0</td>\n",
       "      <td>0.06</td>\n",
       "      <td>0.0</td>\n",
       "      <td>0.0</td>\n",
       "      <td>2.842436</td>\n",
       "      <td>14.737821</td>\n",
       "      <td>11.223936</td>\n",
       "      <td>78</td>\n",
       "    </tr>\n",
       "    <tr>\n",
       "      <th>2</th>\n",
       "      <td>4</td>\n",
       "      <td>0</td>\n",
       "      <td>0</td>\n",
       "      <td>0</td>\n",
       "      <td>0</td>\n",
       "      <td>0</td>\n",
       "      <td>1</td>\n",
       "      <td>0</td>\n",
       "      <td>0</td>\n",
       "      <td>0</td>\n",
       "      <td>...</td>\n",
       "      <td>13.3</td>\n",
       "      <td>16.0</td>\n",
       "      <td>0.0</td>\n",
       "      <td>0.06</td>\n",
       "      <td>0.0</td>\n",
       "      <td>0.0</td>\n",
       "      <td>2.235484</td>\n",
       "      <td>11.183333</td>\n",
       "      <td>11.346154</td>\n",
       "      <td>62</td>\n",
       "    </tr>\n",
       "    <tr>\n",
       "      <th>3</th>\n",
       "      <td>4</td>\n",
       "      <td>0</td>\n",
       "      <td>0</td>\n",
       "      <td>0</td>\n",
       "      <td>0</td>\n",
       "      <td>0</td>\n",
       "      <td>1</td>\n",
       "      <td>0</td>\n",
       "      <td>0</td>\n",
       "      <td>0</td>\n",
       "      <td>...</td>\n",
       "      <td>13.3</td>\n",
       "      <td>16.0</td>\n",
       "      <td>0.0</td>\n",
       "      <td>0.06</td>\n",
       "      <td>0.0</td>\n",
       "      <td>0.0</td>\n",
       "      <td>2.640308</td>\n",
       "      <td>11.701795</td>\n",
       "      <td>12.651760</td>\n",
       "      <td>65</td>\n",
       "    </tr>\n",
       "    <tr>\n",
       "      <th>4</th>\n",
       "      <td>4</td>\n",
       "      <td>0</td>\n",
       "      <td>0</td>\n",
       "      <td>0</td>\n",
       "      <td>0</td>\n",
       "      <td>0</td>\n",
       "      <td>1</td>\n",
       "      <td>0</td>\n",
       "      <td>0</td>\n",
       "      <td>0</td>\n",
       "      <td>...</td>\n",
       "      <td>13.3</td>\n",
       "      <td>16.0</td>\n",
       "      <td>0.0</td>\n",
       "      <td>0.06</td>\n",
       "      <td>0.0</td>\n",
       "      <td>0.0</td>\n",
       "      <td>2.635000</td>\n",
       "      <td>11.158889</td>\n",
       "      <td>13.186688</td>\n",
       "      <td>30</td>\n",
       "    </tr>\n",
       "  </tbody>\n",
       "</table>\n",
       "<p>5 rows × 46 columns</p>\n",
       "</div>"
      ],
      "text/plain": [
       "   Zone  Friday  Monday  Saturday  Sunday  Thursday  Tuesday  Wednesday  \\\n",
       "0     4       0       0         0       0         0        1          0   \n",
       "1     4       0       0         0       0         0        1          0   \n",
       "2     4       0       0         0       0         0        1          0   \n",
       "3     4       0       0         0       0         0        1          0   \n",
       "4     4       0       0         0       0         0        1          0   \n",
       "\n",
       "   00:00 - 00:59  01:00 - 01:59  ...  Tdep   HDD  CDD  Precipitation  \\\n",
       "0              1              0  ...  13.3  16.0  0.0           0.06   \n",
       "1              0              1  ...  13.3  16.0  0.0           0.06   \n",
       "2              0              0  ...  13.3  16.0  0.0           0.06   \n",
       "3              0              0  ...  13.3  16.0  0.0           0.06   \n",
       "4              0              0  ...  13.3  16.0  0.0           0.06   \n",
       "\n",
       "   new_snow  snow_depth  trip_distance  trip_time      speed  num_of_taxis  \n",
       "0       0.0         0.0       2.543171  11.890650  12.167499            41  \n",
       "1       0.0         0.0       2.842436  14.737821  11.223936            78  \n",
       "2       0.0         0.0       2.235484  11.183333  11.346154            62  \n",
       "3       0.0         0.0       2.640308  11.701795  12.651760            65  \n",
       "4       0.0         0.0       2.635000  11.158889  13.186688            30  \n",
       "\n",
       "[5 rows x 46 columns]"
      ]
     },
     "execution_count": 71,
     "metadata": {},
     "output_type": "execute_result"
    }
   ],
   "source": [
    "df.head()"
   ]
  },
  {
   "cell_type": "code",
   "execution_count": 72,
   "metadata": {},
   "outputs": [
    {
     "data": {
      "text/plain": [
       "566082"
      ]
     },
     "execution_count": 72,
     "metadata": {},
     "output_type": "execute_result"
    }
   ],
   "source": [
    "len(df)"
   ]
  },
  {
   "cell_type": "code",
   "execution_count": 73,
   "metadata": {},
   "outputs": [
    {
     "data": {
      "text/plain": [
       "<AxesSubplot:>"
      ]
     },
     "execution_count": 73,
     "metadata": {},
     "output_type": "execute_result"
    },
    {
     "data": {
      "image/png": "[encoded data removed]",
      "text/plain": [
       "<Figure size 432x288 with 1 Axes>"
      ]
     },
     "metadata": {
      "needs_background": "light"
     },
     "output_type": "display_data"
    }
   ],
   "source": [
    "df['trip_time'].hist(bins=100)"
   ]
  },
  {
   "cell_type": "code",
   "execution_count": 74,
   "metadata": {},
   "outputs": [],
   "source": [
    "df_1 = df.loc[(df['trip_time'] < 10)] # Less than 10 min\n",
    "df_2 = df.loc[(df['trip_time'] > 10) & (df['trip_time'] < 15)] # Between 10 min and 15 min\n",
    "df_3 = df.loc[(df['trip_time'] > 15)] # More than 15 min"
   ]
  },
  {
   "cell_type": "code",
   "execution_count": 75,
   "metadata": {},
   "outputs": [],
   "source": [
    "path = r'C:\\Users\\barka\\OneDrive\\Final Project\\Data\\Manhattan\\2019\\Model Learning'\n",
    "df_1.to_csv(path+'\\less_than_10.csv',index=False)\n",
    "df_2.to_csv(path+r'\\between_10_and_15.csv',index=False)\n",
    "df_3.to_csv(path+'\\more_than_15',index=False)"
   ]
  }
 ],
 "metadata": {
  "interpreter": {
   "hash": "145dce410f627c3f4bace442f30927e7d934fd52308d51a13091780548fd05f7"
  },
  "kernelspec": {
   "display_name": "Python 3.10.3 64-bit",
   "language": "python",
   "name": "python3"
  },
  "language_info": {
   "codemirror_mode": {
    "name": "ipython",
    "version": 3
   },
   "file_extension": ".py",
   "mimetype": "text/x-python",
   "name": "python",
   "nbconvert_exporter": "python",
   "pygments_lexer": "ipython3",
   "version": "3.10.3"
  },
  "orig_nbformat": 4
 },
 "nbformat": 4,
 "nbformat_minor": 2
}
