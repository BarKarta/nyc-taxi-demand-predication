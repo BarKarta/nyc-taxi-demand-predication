{
 "cells": [
  {
   "cell_type": "code",
   "execution_count": 1,
   "metadata": {},
   "outputs": [],
   "source": [
    "import pandas as pd"
   ]
  },
  {
   "cell_type": "code",
   "execution_count": null,
   "metadata": {},
   "outputs": [],
   "source": [
    "path = r'C:\\Users\\barka\\OneDrive\\Final Project\\Data\\Manhattan\\2019\\Model Learning'\n",
    "less_than_10_df = pd.read_csv(path + '')\n",
    "beteween_10_and_15_df = pd.read_csv()\n",
    "more_than_15_df = pd.read_csv()"
   ]
  }
 ],
 "metadata": {
  "interpreter": {
   "hash": "145dce410f627c3f4bace442f30927e7d934fd52308d51a13091780548fd05f7"
  },
  "kernelspec": {
   "display_name": "Python 3.10.3 64-bit",
   "language": "python",
   "name": "python3"
  },
  "language_info": {
   "codemirror_mode": {
    "name": "ipython",
    "version": 3
   },
   "file_extension": ".py",
   "mimetype": "text/x-python",
   "name": "python",
   "nbconvert_exporter": "python",
   "pygments_lexer": "ipython3",
   "version": "3.10.3"
  },
  "orig_nbformat": 4
 },
 "nbformat": 4,
 "nbformat_minor": 2
}
