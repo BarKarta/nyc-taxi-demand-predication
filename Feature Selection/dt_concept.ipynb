{
 "cells": [
  {
   "cell_type": "code",
   "execution_count": 1,
   "metadata": {},
   "outputs": [],
   "source": [
    "import pandas as pd\n",
    "import sys\n",
    "sys.path.append(\"..\")\n",
    "import utility.utility_functions as ut\n",
    "import utility.data_prep_functions as dpf\n",
    "import numpy as np  "
   ]
  },
  {
   "cell_type": "code",
   "execution_count": 2,
   "metadata": {},
   "outputs": [],
   "source": [
    "week_end = ['Saturday','Sunday']\n",
    "mid_week = ['Monday','Tuesday','Wednesday','Thursday','Friday']\n",
    "seasons = {2.0:'Summer',0.0:'Winter',1.0:'Spring',3.0:'Fall'}\n",
    "midnight = dpf.get_hours_label(0,7)\n",
    "morning = dpf.get_hours_label(7,12)\n",
    "noon_afternoon = dpf.get_hours_label(12,20)\n",
    "night = dpf.get_hours_label(20,24)"
   ]
  },
  {
   "cell_type": "code",
   "execution_count": 3,
   "metadata": {},
   "outputs": [],
   "source": [
    "df = ut.load_post_data_prep_all_zone()\n",
    "df.dropna(inplace=True)"
   ]
  },
  {
   "cell_type": "code",
   "execution_count": 4,
   "metadata": {},
   "outputs": [
    {
     "data": {
      "text/html": [
       "<div>\n",
       "<style scoped>\n",
       "    .dataframe tbody tr th:only-of-type {\n",
       "        vertical-align: middle;\n",
       "    }\n",
       "\n",
       "    .dataframe tbody tr th {\n",
       "        vertical-align: top;\n",
       "    }\n",
       "\n",
       "    .dataframe thead th {\n",
       "        text-align: right;\n",
       "    }\n",
       "</style>\n",
       "<table border=\"1\" class=\"dataframe\">\n",
       "  <thead>\n",
       "    <tr style=\"text-align: right;\">\n",
       "      <th></th>\n",
       "      <th>pickup_date</th>\n",
       "      <th>weekday</th>\n",
       "      <th>time_binned</th>\n",
       "      <th>Tmax</th>\n",
       "      <th>Tmin</th>\n",
       "      <th>Tavg</th>\n",
       "      <th>Tdep</th>\n",
       "      <th>HDD</th>\n",
       "      <th>CDD</th>\n",
       "      <th>Precipitation</th>\n",
       "      <th>new_snow</th>\n",
       "      <th>snow_depth</th>\n",
       "      <th>trip_distance</th>\n",
       "      <th>trip_time</th>\n",
       "      <th>speed</th>\n",
       "      <th>num_of_taxis</th>\n",
       "      <th>Zone</th>\n",
       "    </tr>\n",
       "  </thead>\n",
       "  <tbody>\n",
       "    <tr>\n",
       "      <th>0</th>\n",
       "      <td>2019-01-01</td>\n",
       "      <td>Tuesday</td>\n",
       "      <td>00:00 - 00:59</td>\n",
       "      <td>58.0</td>\n",
       "      <td>39.0</td>\n",
       "      <td>48.5</td>\n",
       "      <td>13.3</td>\n",
       "      <td>16.0</td>\n",
       "      <td>0.0</td>\n",
       "      <td>0.06</td>\n",
       "      <td>0.0</td>\n",
       "      <td>0.0</td>\n",
       "      <td>2.543171</td>\n",
       "      <td>11.890650</td>\n",
       "      <td>12.167499</td>\n",
       "      <td>41</td>\n",
       "      <td>4</td>\n",
       "    </tr>\n",
       "    <tr>\n",
       "      <th>1</th>\n",
       "      <td>2019-01-01</td>\n",
       "      <td>Tuesday</td>\n",
       "      <td>01:00 - 01:59</td>\n",
       "      <td>58.0</td>\n",
       "      <td>39.0</td>\n",
       "      <td>48.5</td>\n",
       "      <td>13.3</td>\n",
       "      <td>16.0</td>\n",
       "      <td>0.0</td>\n",
       "      <td>0.06</td>\n",
       "      <td>0.0</td>\n",
       "      <td>0.0</td>\n",
       "      <td>2.842436</td>\n",
       "      <td>14.737821</td>\n",
       "      <td>11.223936</td>\n",
       "      <td>78</td>\n",
       "      <td>4</td>\n",
       "    </tr>\n",
       "    <tr>\n",
       "      <th>2</th>\n",
       "      <td>2019-01-01</td>\n",
       "      <td>Tuesday</td>\n",
       "      <td>02:00 - 02:59</td>\n",
       "      <td>58.0</td>\n",
       "      <td>39.0</td>\n",
       "      <td>48.5</td>\n",
       "      <td>13.3</td>\n",
       "      <td>16.0</td>\n",
       "      <td>0.0</td>\n",
       "      <td>0.06</td>\n",
       "      <td>0.0</td>\n",
       "      <td>0.0</td>\n",
       "      <td>2.235484</td>\n",
       "      <td>11.183333</td>\n",
       "      <td>11.346154</td>\n",
       "      <td>62</td>\n",
       "      <td>4</td>\n",
       "    </tr>\n",
       "    <tr>\n",
       "      <th>3</th>\n",
       "      <td>2019-01-01</td>\n",
       "      <td>Tuesday</td>\n",
       "      <td>03:00 - 03:59</td>\n",
       "      <td>58.0</td>\n",
       "      <td>39.0</td>\n",
       "      <td>48.5</td>\n",
       "      <td>13.3</td>\n",
       "      <td>16.0</td>\n",
       "      <td>0.0</td>\n",
       "      <td>0.06</td>\n",
       "      <td>0.0</td>\n",
       "      <td>0.0</td>\n",
       "      <td>2.640308</td>\n",
       "      <td>11.701795</td>\n",
       "      <td>12.651760</td>\n",
       "      <td>65</td>\n",
       "      <td>4</td>\n",
       "    </tr>\n",
       "    <tr>\n",
       "      <th>4</th>\n",
       "      <td>2019-01-01</td>\n",
       "      <td>Tuesday</td>\n",
       "      <td>04:00 - 04:59</td>\n",
       "      <td>58.0</td>\n",
       "      <td>39.0</td>\n",
       "      <td>48.5</td>\n",
       "      <td>13.3</td>\n",
       "      <td>16.0</td>\n",
       "      <td>0.0</td>\n",
       "      <td>0.06</td>\n",
       "      <td>0.0</td>\n",
       "      <td>0.0</td>\n",
       "      <td>2.635000</td>\n",
       "      <td>11.158889</td>\n",
       "      <td>13.186688</td>\n",
       "      <td>30</td>\n",
       "      <td>4</td>\n",
       "    </tr>\n",
       "  </tbody>\n",
       "</table>\n",
       "</div>"
      ],
      "text/plain": [
       "  pickup_date  weekday    time_binned  Tmax  Tmin  Tavg  Tdep   HDD  CDD  \\\n",
       "0  2019-01-01  Tuesday  00:00 - 00:59  58.0  39.0  48.5  13.3  16.0  0.0   \n",
       "1  2019-01-01  Tuesday  01:00 - 01:59  58.0  39.0  48.5  13.3  16.0  0.0   \n",
       "2  2019-01-01  Tuesday  02:00 - 02:59  58.0  39.0  48.5  13.3  16.0  0.0   \n",
       "3  2019-01-01  Tuesday  03:00 - 03:59  58.0  39.0  48.5  13.3  16.0  0.0   \n",
       "4  2019-01-01  Tuesday  04:00 - 04:59  58.0  39.0  48.5  13.3  16.0  0.0   \n",
       "\n",
       "   Precipitation  new_snow  snow_depth  trip_distance  trip_time      speed  \\\n",
       "0           0.06       0.0         0.0       2.543171  11.890650  12.167499   \n",
       "1           0.06       0.0         0.0       2.842436  14.737821  11.223936   \n",
       "2           0.06       0.0         0.0       2.235484  11.183333  11.346154   \n",
       "3           0.06       0.0         0.0       2.640308  11.701795  12.651760   \n",
       "4           0.06       0.0         0.0       2.635000  11.158889  13.186688   \n",
       "\n",
       "   num_of_taxis  Zone  \n",
       "0            41     4  \n",
       "1            78     4  \n",
       "2            62     4  \n",
       "3            65     4  \n",
       "4            30     4  "
      ]
     },
     "execution_count": 4,
     "metadata": {},
     "output_type": "execute_result"
    }
   ],
   "source": [
    "df.head()"
   ]
  },
  {
   "cell_type": "code",
   "execution_count": 5,
   "metadata": {},
   "outputs": [],
   "source": [
    "df['pickup_date'] = pd.to_datetime(df['pickup_date'])\n",
    "df['month'] = df['pickup_date'].dt.month\n",
    "df['Season'] = np.floor((df.month - 1 ) / 3)\n",
    "df.Season.replace(seasons,inplace=True)"
   ]
  },
  {
   "cell_type": "code",
   "execution_count": 6,
   "metadata": {},
   "outputs": [],
   "source": [
    "\n",
    "df = df.drop(df[df.trip_time < 5].index)\n",
    "df = df.drop(['pickup_date','month'],axis=1)\n",
    "df.reset_index(inplace=True,drop=True)"
   ]
  },
  {
   "cell_type": "code",
   "execution_count": 7,
   "metadata": {},
   "outputs": [
    {
     "data": {
      "text/html": [
       "<div>\n",
       "<style scoped>\n",
       "    .dataframe tbody tr th:only-of-type {\n",
       "        vertical-align: middle;\n",
       "    }\n",
       "\n",
       "    .dataframe tbody tr th {\n",
       "        vertical-align: top;\n",
       "    }\n",
       "\n",
       "    .dataframe thead th {\n",
       "        text-align: right;\n",
       "    }\n",
       "</style>\n",
       "<table border=\"1\" class=\"dataframe\">\n",
       "  <thead>\n",
       "    <tr style=\"text-align: right;\">\n",
       "      <th></th>\n",
       "      <th>weekday</th>\n",
       "      <th>time_binned</th>\n",
       "      <th>Tmax</th>\n",
       "      <th>Tmin</th>\n",
       "      <th>Tavg</th>\n",
       "      <th>Tdep</th>\n",
       "      <th>HDD</th>\n",
       "      <th>CDD</th>\n",
       "      <th>Precipitation</th>\n",
       "      <th>new_snow</th>\n",
       "      <th>snow_depth</th>\n",
       "      <th>trip_distance</th>\n",
       "      <th>trip_time</th>\n",
       "      <th>speed</th>\n",
       "      <th>num_of_taxis</th>\n",
       "      <th>Zone</th>\n",
       "      <th>Season</th>\n",
       "    </tr>\n",
       "  </thead>\n",
       "  <tbody>\n",
       "    <tr>\n",
       "      <th>0</th>\n",
       "      <td>Tuesday</td>\n",
       "      <td>00:00 - 00:59</td>\n",
       "      <td>58.0</td>\n",
       "      <td>39.0</td>\n",
       "      <td>48.5</td>\n",
       "      <td>13.3</td>\n",
       "      <td>16.0</td>\n",
       "      <td>0.0</td>\n",
       "      <td>0.06</td>\n",
       "      <td>0.0</td>\n",
       "      <td>0.0</td>\n",
       "      <td>2.543171</td>\n",
       "      <td>11.890650</td>\n",
       "      <td>12.167499</td>\n",
       "      <td>41</td>\n",
       "      <td>4</td>\n",
       "      <td>Winter</td>\n",
       "    </tr>\n",
       "    <tr>\n",
       "      <th>1</th>\n",
       "      <td>Tuesday</td>\n",
       "      <td>01:00 - 01:59</td>\n",
       "      <td>58.0</td>\n",
       "      <td>39.0</td>\n",
       "      <td>48.5</td>\n",
       "      <td>13.3</td>\n",
       "      <td>16.0</td>\n",
       "      <td>0.0</td>\n",
       "      <td>0.06</td>\n",
       "      <td>0.0</td>\n",
       "      <td>0.0</td>\n",
       "      <td>2.842436</td>\n",
       "      <td>14.737821</td>\n",
       "      <td>11.223936</td>\n",
       "      <td>78</td>\n",
       "      <td>4</td>\n",
       "      <td>Winter</td>\n",
       "    </tr>\n",
       "    <tr>\n",
       "      <th>2</th>\n",
       "      <td>Tuesday</td>\n",
       "      <td>02:00 - 02:59</td>\n",
       "      <td>58.0</td>\n",
       "      <td>39.0</td>\n",
       "      <td>48.5</td>\n",
       "      <td>13.3</td>\n",
       "      <td>16.0</td>\n",
       "      <td>0.0</td>\n",
       "      <td>0.06</td>\n",
       "      <td>0.0</td>\n",
       "      <td>0.0</td>\n",
       "      <td>2.235484</td>\n",
       "      <td>11.183333</td>\n",
       "      <td>11.346154</td>\n",
       "      <td>62</td>\n",
       "      <td>4</td>\n",
       "      <td>Winter</td>\n",
       "    </tr>\n",
       "    <tr>\n",
       "      <th>3</th>\n",
       "      <td>Tuesday</td>\n",
       "      <td>03:00 - 03:59</td>\n",
       "      <td>58.0</td>\n",
       "      <td>39.0</td>\n",
       "      <td>48.5</td>\n",
       "      <td>13.3</td>\n",
       "      <td>16.0</td>\n",
       "      <td>0.0</td>\n",
       "      <td>0.06</td>\n",
       "      <td>0.0</td>\n",
       "      <td>0.0</td>\n",
       "      <td>2.640308</td>\n",
       "      <td>11.701795</td>\n",
       "      <td>12.651760</td>\n",
       "      <td>65</td>\n",
       "      <td>4</td>\n",
       "      <td>Winter</td>\n",
       "    </tr>\n",
       "    <tr>\n",
       "      <th>4</th>\n",
       "      <td>Tuesday</td>\n",
       "      <td>04:00 - 04:59</td>\n",
       "      <td>58.0</td>\n",
       "      <td>39.0</td>\n",
       "      <td>48.5</td>\n",
       "      <td>13.3</td>\n",
       "      <td>16.0</td>\n",
       "      <td>0.0</td>\n",
       "      <td>0.06</td>\n",
       "      <td>0.0</td>\n",
       "      <td>0.0</td>\n",
       "      <td>2.635000</td>\n",
       "      <td>11.158889</td>\n",
       "      <td>13.186688</td>\n",
       "      <td>30</td>\n",
       "      <td>4</td>\n",
       "      <td>Winter</td>\n",
       "    </tr>\n",
       "  </tbody>\n",
       "</table>\n",
       "</div>"
      ],
      "text/plain": [
       "   weekday    time_binned  Tmax  Tmin  Tavg  Tdep   HDD  CDD  Precipitation  \\\n",
       "0  Tuesday  00:00 - 00:59  58.0  39.0  48.5  13.3  16.0  0.0           0.06   \n",
       "1  Tuesday  01:00 - 01:59  58.0  39.0  48.5  13.3  16.0  0.0           0.06   \n",
       "2  Tuesday  02:00 - 02:59  58.0  39.0  48.5  13.3  16.0  0.0           0.06   \n",
       "3  Tuesday  03:00 - 03:59  58.0  39.0  48.5  13.3  16.0  0.0           0.06   \n",
       "4  Tuesday  04:00 - 04:59  58.0  39.0  48.5  13.3  16.0  0.0           0.06   \n",
       "\n",
       "   new_snow  snow_depth  trip_distance  trip_time      speed  num_of_taxis  \\\n",
       "0       0.0         0.0       2.543171  11.890650  12.167499            41   \n",
       "1       0.0         0.0       2.842436  14.737821  11.223936            78   \n",
       "2       0.0         0.0       2.235484  11.183333  11.346154            62   \n",
       "3       0.0         0.0       2.640308  11.701795  12.651760            65   \n",
       "4       0.0         0.0       2.635000  11.158889  13.186688            30   \n",
       "\n",
       "   Zone  Season  \n",
       "0     4  Winter  \n",
       "1     4  Winter  \n",
       "2     4  Winter  \n",
       "3     4  Winter  \n",
       "4     4  Winter  "
      ]
     },
     "execution_count": 7,
     "metadata": {},
     "output_type": "execute_result"
    }
   ],
   "source": [
    "df.head()"
   ]
  },
  {
   "cell_type": "code",
   "execution_count": 8,
   "metadata": {},
   "outputs": [],
   "source": [
    "df.drop(['trip_distance','trip_time','speed'],axis=1,inplace=True)"
   ]
  },
  {
   "cell_type": "code",
   "execution_count": 9,
   "metadata": {},
   "outputs": [
    {
     "data": {
      "application/vnd.plotly.v1+json": {
       "config": {
        "plotlyServerURL": "https://plot.ly"
       },
       "data": [
        {
         "coloraxis": "coloraxis",
         "hovertemplate": "x: %{x}<br>y: %{y}<br>color: %{z}<extra></extra>",
         "name": "0",
         "texttemplate": "%{z}",
         "type": "heatmap",
         "x": [
          "Tmax",
          "Tmin",
          "Tavg",
          "Tdep",
          "HDD",
          "CDD",
          "Precipitation",
          "new_snow",
          "snow_depth",
          "num_of_taxis",
          "Zone"
         ],
         "xaxis": "x",
         "y": [
          "Tmax",
          "Tmin",
          "Tavg",
          "Tdep",
          "HDD",
          "CDD",
          "Precipitation",
          "new_snow",
          "snow_depth",
          "num_of_taxis",
          "Zone"
         ],
         "yaxis": "y",
         "z": [
          [
           1,
           0.9609996625995805,
           0.9910264102193189,
           0.48287540393570405,
           0.9575755290945435,
           0.7621595092896528,
           0.014411874318359752,
           0.19222845899961546,
           0.1950433058937461,
           0.058256163288288955,
           0.0007875965387941776
          ],
          [
           0.9609996625995805,
           1,
           0.9893413733380612,
           0.42356197267279044,
           0.9531989120518882,
           0.7680656095774844,
           0.04126569030165186,
           0.17318215509669294,
           0.18173572912419225,
           0.06168229549456523,
           0.000828407546829605
          ],
          [
           0.9910264102193189,
           0.9893413733380612,
           1,
           0.45897631297582503,
           0.9649177998124127,
           0.7725417251167827,
           0.027533617453101716,
           0.18492127913700368,
           0.19053765773289658,
           0.06048751067773234,
           0.0008151007676939943
          ],
          [
           0.48287540393570405,
           0.42356197267279044,
           0.45897631297582503,
           1,
           0.4769863378434424,
           0.2733082940306856,
           0.037107421164262896,
           0.10497927877333531,
           0.12697979900993517,
           0.029267121366528065,
           0.000047097476641168103
          ],
          [
           0.9575755290945435,
           0.9531989120518882,
           0.9649177998124127,
           0.4769863378434424,
           1,
           0.5791438272468715,
           0.03918818250720459,
           0.20043100887002563,
           0.20897469400591795,
           0.053363006649726985,
           0.0007422457690538215
          ],
          [
           0.7621595092896528,
           0.7680656095774844,
           0.7725417251167827,
           0.2733082940306856,
           0.5791438272468715,
           1,
           0.012528776751200133,
           0.09015207441759804,
           0.08967112365957976,
           0.058354553982912886,
           0.0007367502188422571
          ],
          [
           0.014411874318359752,
           0.04126569030165186,
           0.027533617453101716,
           0.037107421164262896,
           0.03918818250720459,
           0.012528776751200133,
           1,
           0.12232296370296111,
           0.03982940875458798,
           0.008925813894526192,
           0.00021364596748435475
          ],
          [
           0.19222845899961546,
           0.17318215509669294,
           0.18492127913700368,
           0.10497927877333531,
           0.20043100887002563,
           0.09015207441759804,
           0.12232296370296111,
           1,
           0.7218413388138033,
           0.006573936023148356,
           0.0003115499830003975
          ],
          [
           0.1950433058937461,
           0.18173572912419225,
           0.19053765773289658,
           0.12697979900993517,
           0.20897469400591795,
           0.08967112365957976,
           0.03982940875458798,
           0.7218413388138033,
           1,
           0.011479656455221223,
           0.000021344669703117497
          ],
          [
           0.058256163288288955,
           0.06168229549456523,
           0.06048751067773234,
           0.029267121366528065,
           0.053363006649726985,
           0.058354553982912886,
           0.008925813894526192,
           0.006573936023148356,
           0.011479656455221223,
           1,
           0.17980725691863694
          ],
          [
           0.0007875965387941776,
           0.000828407546829605,
           0.0008151007676939943,
           0.000047097476641168103,
           0.0007422457690538215,
           0.0007367502188422571,
           0.00021364596748435475,
           0.0003115499830003975,
           0.000021344669703117497,
           0.17980725691863694,
           1
          ]
         ]
        }
       ],
       "layout": {
        "autosize": false,
        "coloraxis": {
         "colorscale": [
          [
           0,
           "#0d0887"
          ],
          [
           0.1111111111111111,
           "#46039f"
          ],
          [
           0.2222222222222222,
           "#7201a8"
          ],
          [
           0.3333333333333333,
           "#9c179e"
          ],
          [
           0.4444444444444444,
           "#bd3786"
          ],
          [
           0.5555555555555556,
           "#d8576b"
          ],
          [
           0.6666666666666666,
           "#ed7953"
          ],
          [
           0.7777777777777778,
           "#fb9f3a"
          ],
          [
           0.8888888888888888,
           "#fdca26"
          ],
          [
           1,
           "#f0f921"
          ]
         ]
        },
        "height": 500,
        "margin": {
         "t": 60
        },
        "template": {
         "data": {
          "bar": [
           {
            "error_x": {
             "color": "#2a3f5f"
            },
            "error_y": {
             "color": "#2a3f5f"
            },
            "marker": {
             "line": {
              "color": "#E5ECF6",
              "width": 0.5
             },
             "pattern": {
              "fillmode": "overlay",
              "size": 10,
              "solidity": 0.2
             }
            },
            "type": "bar"
           }
          ],
          "barpolar": [
           {
            "marker": {
             "line": {
              "color": "#E5ECF6",
              "width": 0.5
             },
             "pattern": {
              "fillmode": "overlay",
              "size": 10,
              "solidity": 0.2
             }
            },
            "type": "barpolar"
           }
          ],
          "carpet": [
           {
            "aaxis": {
             "endlinecolor": "#2a3f5f",
             "gridcolor": "white",
             "linecolor": "white",
             "minorgridcolor": "white",
             "startlinecolor": "#2a3f5f"
            },
            "baxis": {
             "endlinecolor": "#2a3f5f",
             "gridcolor": "white",
             "linecolor": "white",
             "minorgridcolor": "white",
             "startlinecolor": "#2a3f5f"
            },
            "type": "carpet"
           }
          ],
          "choropleth": [
           {
            "colorbar": {
             "outlinewidth": 0,
             "ticks": ""
            },
            "type": "choropleth"
           }
          ],
          "contour": [
           {
            "colorbar": {
             "outlinewidth": 0,
             "ticks": ""
            },
            "colorscale": [
             [
              0,
              "#0d0887"
             ],
             [
              0.1111111111111111,
              "#46039f"
             ],
             [
              0.2222222222222222,
              "#7201a8"
             ],
             [
              0.3333333333333333,
              "#9c179e"
             ],
             [
              0.4444444444444444,
              "#bd3786"
             ],
             [
              0.5555555555555556,
              "#d8576b"
             ],
             [
              0.6666666666666666,
              "#ed7953"
             ],
             [
              0.7777777777777778,
              "#fb9f3a"
             ],
             [
              0.8888888888888888,
              "#fdca26"
             ],
             [
              1,
              "#f0f921"
             ]
            ],
            "type": "contour"
           }
          ],
          "contourcarpet": [
           {
            "colorbar": {
             "outlinewidth": 0,
             "ticks": ""
            },
            "type": "contourcarpet"
           }
          ],
          "heatmap": [
           {
            "colorbar": {
             "outlinewidth": 0,
             "ticks": ""
            },
            "colorscale": [
             [
              0,
              "#0d0887"
             ],
             [
              0.1111111111111111,
              "#46039f"
             ],
             [
              0.2222222222222222,
              "#7201a8"
             ],
             [
              0.3333333333333333,
              "#9c179e"
             ],
             [
              0.4444444444444444,
              "#bd3786"
             ],
             [
              0.5555555555555556,
              "#d8576b"
             ],
             [
              0.6666666666666666,
              "#ed7953"
             ],
             [
              0.7777777777777778,
              "#fb9f3a"
             ],
             [
              0.8888888888888888,
              "#fdca26"
             ],
             [
              1,
              "#f0f921"
             ]
            ],
            "type": "heatmap"
           }
          ],
          "heatmapgl": [
           {
            "colorbar": {
             "outlinewidth": 0,
             "ticks": ""
            },
            "colorscale": [
             [
              0,
              "#0d0887"
             ],
             [
              0.1111111111111111,
              "#46039f"
             ],
             [
              0.2222222222222222,
              "#7201a8"
             ],
             [
              0.3333333333333333,
              "#9c179e"
             ],
             [
              0.4444444444444444,
              "#bd3786"
             ],
             [
              0.5555555555555556,
              "#d8576b"
             ],
             [
              0.6666666666666666,
              "#ed7953"
             ],
             [
              0.7777777777777778,
              "#fb9f3a"
             ],
             [
              0.8888888888888888,
              "#fdca26"
             ],
             [
              1,
              "#f0f921"
             ]
            ],
            "type": "heatmapgl"
           }
          ],
          "histogram": [
           {
            "marker": {
             "pattern": {
              "fillmode": "overlay",
              "size": 10,
              "solidity": 0.2
             }
            },
            "type": "histogram"
           }
          ],
          "histogram2d": [
           {
            "colorbar": {
             "outlinewidth": 0,
             "ticks": ""
            },
            "colorscale": [
             [
              0,
              "#0d0887"
             ],
             [
              0.1111111111111111,
              "#46039f"
             ],
             [
              0.2222222222222222,
              "#7201a8"
             ],
             [
              0.3333333333333333,
              "#9c179e"
             ],
             [
              0.4444444444444444,
              "#bd3786"
             ],
             [
              0.5555555555555556,
              "#d8576b"
             ],
             [
              0.6666666666666666,
              "#ed7953"
             ],
             [
              0.7777777777777778,
              "#fb9f3a"
             ],
             [
              0.8888888888888888,
              "#fdca26"
             ],
             [
              1,
              "#f0f921"
             ]
            ],
            "type": "histogram2d"
           }
          ],
          "histogram2dcontour": [
           {
            "colorbar": {
             "outlinewidth": 0,
             "ticks": ""
            },
            "colorscale": [
             [
              0,
              "#0d0887"
             ],
             [
              0.1111111111111111,
              "#46039f"
             ],
             [
              0.2222222222222222,
              "#7201a8"
             ],
             [
              0.3333333333333333,
              "#9c179e"
             ],
             [
              0.4444444444444444,
              "#bd3786"
             ],
             [
              0.5555555555555556,
              "#d8576b"
             ],
             [
              0.6666666666666666,
              "#ed7953"
             ],
             [
              0.7777777777777778,
              "#fb9f3a"
             ],
             [
              0.8888888888888888,
              "#fdca26"
             ],
             [
              1,
              "#f0f921"
             ]
            ],
            "type": "histogram2dcontour"
           }
          ],
          "mesh3d": [
           {
            "colorbar": {
             "outlinewidth": 0,
             "ticks": ""
            },
            "type": "mesh3d"
           }
          ],
          "parcoords": [
           {
            "line": {
             "colorbar": {
              "outlinewidth": 0,
              "ticks": ""
             }
            },
            "type": "parcoords"
           }
          ],
          "pie": [
           {
            "automargin": true,
            "type": "pie"
           }
          ],
          "scatter": [
           {
            "fillpattern": {
             "fillmode": "overlay",
             "size": 10,
             "solidity": 0.2
            },
            "type": "scatter"
           }
          ],
          "scatter3d": [
           {
            "line": {
             "colorbar": {
              "outlinewidth": 0,
              "ticks": ""
             }
            },
            "marker": {
             "colorbar": {
              "outlinewidth": 0,
              "ticks": ""
             }
            },
            "type": "scatter3d"
           }
          ],
          "scattercarpet": [
           {
            "marker": {
             "colorbar": {
              "outlinewidth": 0,
              "ticks": ""
             }
            },
            "type": "scattercarpet"
           }
          ],
          "scattergeo": [
           {
            "marker": {
             "colorbar": {
              "outlinewidth": 0,
              "ticks": ""
             }
            },
            "type": "scattergeo"
           }
          ],
          "scattergl": [
           {
            "marker": {
             "colorbar": {
              "outlinewidth": 0,
              "ticks": ""
             }
            },
            "type": "scattergl"
           }
          ],
          "scattermapbox": [
           {
            "marker": {
             "colorbar": {
              "outlinewidth": 0,
              "ticks": ""
             }
            },
            "type": "scattermapbox"
           }
          ],
          "scatterpolar": [
           {
            "marker": {
             "colorbar": {
              "outlinewidth": 0,
              "ticks": ""
             }
            },
            "type": "scatterpolar"
           }
          ],
          "scatterpolargl": [
           {
            "marker": {
             "colorbar": {
              "outlinewidth": 0,
              "ticks": ""
             }
            },
            "type": "scatterpolargl"
           }
          ],
          "scatterternary": [
           {
            "marker": {
             "colorbar": {
              "outlinewidth": 0,
              "ticks": ""
             }
            },
            "type": "scatterternary"
           }
          ],
          "surface": [
           {
            "colorbar": {
             "outlinewidth": 0,
             "ticks": ""
            },
            "colorscale": [
             [
              0,
              "#0d0887"
             ],
             [
              0.1111111111111111,
              "#46039f"
             ],
             [
              0.2222222222222222,
              "#7201a8"
             ],
             [
              0.3333333333333333,
              "#9c179e"
             ],
             [
              0.4444444444444444,
              "#bd3786"
             ],
             [
              0.5555555555555556,
              "#d8576b"
             ],
             [
              0.6666666666666666,
              "#ed7953"
             ],
             [
              0.7777777777777778,
              "#fb9f3a"
             ],
             [
              0.8888888888888888,
              "#fdca26"
             ],
             [
              1,
              "#f0f921"
             ]
            ],
            "type": "surface"
           }
          ],
          "table": [
           {
            "cells": {
             "fill": {
              "color": "#EBF0F8"
             },
             "line": {
              "color": "white"
             }
            },
            "header": {
             "fill": {
              "color": "#C8D4E3"
             },
             "line": {
              "color": "white"
             }
            },
            "type": "table"
           }
          ]
         },
         "layout": {
          "annotationdefaults": {
           "arrowcolor": "#2a3f5f",
           "arrowhead": 0,
           "arrowwidth": 1
          },
          "autotypenumbers": "strict",
          "coloraxis": {
           "colorbar": {
            "outlinewidth": 0,
            "ticks": ""
           }
          },
          "colorscale": {
           "diverging": [
            [
             0,
             "#8e0152"
            ],
            [
             0.1,
             "#c51b7d"
            ],
            [
             0.2,
             "#de77ae"
            ],
            [
             0.3,
             "#f1b6da"
            ],
            [
             0.4,
             "#fde0ef"
            ],
            [
             0.5,
             "#f7f7f7"
            ],
            [
             0.6,
             "#e6f5d0"
            ],
            [
             0.7,
             "#b8e186"
            ],
            [
             0.8,
             "#7fbc41"
            ],
            [
             0.9,
             "#4d9221"
            ],
            [
             1,
             "#276419"
            ]
           ],
           "sequential": [
            [
             0,
             "#0d0887"
            ],
            [
             0.1111111111111111,
             "#46039f"
            ],
            [
             0.2222222222222222,
             "#7201a8"
            ],
            [
             0.3333333333333333,
             "#9c179e"
            ],
            [
             0.4444444444444444,
             "#bd3786"
            ],
            [
             0.5555555555555556,
             "#d8576b"
            ],
            [
             0.6666666666666666,
             "#ed7953"
            ],
            [
             0.7777777777777778,
             "#fb9f3a"
            ],
            [
             0.8888888888888888,
             "#fdca26"
            ],
            [
             1,
             "#f0f921"
            ]
           ],
           "sequentialminus": [
            [
             0,
             "#0d0887"
            ],
            [
             0.1111111111111111,
             "#46039f"
            ],
            [
             0.2222222222222222,
             "#7201a8"
            ],
            [
             0.3333333333333333,
             "#9c179e"
            ],
            [
             0.4444444444444444,
             "#bd3786"
            ],
            [
             0.5555555555555556,
             "#d8576b"
            ],
            [
             0.6666666666666666,
             "#ed7953"
            ],
            [
             0.7777777777777778,
             "#fb9f3a"
            ],
            [
             0.8888888888888888,
             "#fdca26"
            ],
            [
             1,
             "#f0f921"
            ]
           ]
          },
          "colorway": [
           "#636efa",
           "#EF553B",
           "#00cc96",
           "#ab63fa",
           "#FFA15A",
           "#19d3f3",
           "#FF6692",
           "#B6E880",
           "#FF97FF",
           "#FECB52"
          ],
          "font": {
           "color": "#2a3f5f"
          },
          "geo": {
           "bgcolor": "white",
           "lakecolor": "white",
           "landcolor": "#E5ECF6",
           "showlakes": true,
           "showland": true,
           "subunitcolor": "white"
          },
          "hoverlabel": {
           "align": "left"
          },
          "hovermode": "closest",
          "mapbox": {
           "style": "light"
          },
          "paper_bgcolor": "white",
          "plot_bgcolor": "#E5ECF6",
          "polar": {
           "angularaxis": {
            "gridcolor": "white",
            "linecolor": "white",
            "ticks": ""
           },
           "bgcolor": "#E5ECF6",
           "radialaxis": {
            "gridcolor": "white",
            "linecolor": "white",
            "ticks": ""
           }
          },
          "scene": {
           "xaxis": {
            "backgroundcolor": "#E5ECF6",
            "gridcolor": "white",
            "gridwidth": 2,
            "linecolor": "white",
            "showbackground": true,
            "ticks": "",
            "zerolinecolor": "white"
           },
           "yaxis": {
            "backgroundcolor": "#E5ECF6",
            "gridcolor": "white",
            "gridwidth": 2,
            "linecolor": "white",
            "showbackground": true,
            "ticks": "",
            "zerolinecolor": "white"
           },
           "zaxis": {
            "backgroundcolor": "#E5ECF6",
            "gridcolor": "white",
            "gridwidth": 2,
            "linecolor": "white",
            "showbackground": true,
            "ticks": "",
            "zerolinecolor": "white"
           }
          },
          "shapedefaults": {
           "line": {
            "color": "#2a3f5f"
           }
          },
          "ternary": {
           "aaxis": {
            "gridcolor": "white",
            "linecolor": "white",
            "ticks": ""
           },
           "baxis": {
            "gridcolor": "white",
            "linecolor": "white",
            "ticks": ""
           },
           "bgcolor": "#E5ECF6",
           "caxis": {
            "gridcolor": "white",
            "linecolor": "white",
            "ticks": ""
           }
          },
          "title": {
           "x": 0.05
          },
          "xaxis": {
           "automargin": true,
           "gridcolor": "white",
           "linecolor": "white",
           "ticks": "",
           "title": {
            "standoff": 15
           },
           "zerolinecolor": "white",
           "zerolinewidth": 2
          },
          "yaxis": {
           "automargin": true,
           "gridcolor": "white",
           "linecolor": "white",
           "ticks": "",
           "title": {
            "standoff": 15
           },
           "zerolinecolor": "white",
           "zerolinewidth": 2
          }
         }
        },
        "width": 800,
        "xaxis": {
         "anchor": "y",
         "constrain": "domain",
         "domain": [
          0,
          1
         ],
         "scaleanchor": "y"
        },
        "yaxis": {
         "anchor": "x",
         "autorange": "reversed",
         "constrain": "domain",
         "domain": [
          0,
          1
         ]
        }
       }
      }
     },
     "metadata": {},
     "output_type": "display_data"
    }
   ],
   "source": [
    "import seaborn as sns\n",
    "import plotly.express as px\n",
    "import numpy as np\n",
    "\n",
    "corr = df.corr().abs()\n",
    "\n",
    "fig = px.imshow(corr, text_auto=True)\n",
    "fig.update_layout(\n",
    "    autosize=False,\n",
    "    width=800,\n",
    "    height=500,)\n",
    "\n",
    "fig.show()"
   ]
  },
  {
   "cell_type": "code",
   "execution_count": 10,
   "metadata": {},
   "outputs": [],
   "source": [
    "upper_tri = corr.where(np.triu(np.ones(corr.shape),k=1).astype(bool))\n",
    "to_drop = [column for column in upper_tri.columns if any(upper_tri[column] > 0.85)]\n",
    "to_drop\n",
    "df1 = df.drop(to_drop, axis=1)\n"
   ]
  },
  {
   "cell_type": "code",
   "execution_count": 11,
   "metadata": {},
   "outputs": [
    {
     "data": {
      "text/plain": [
       "['Tmin', 'Tavg', 'HDD']"
      ]
     },
     "execution_count": 11,
     "metadata": {},
     "output_type": "execute_result"
    }
   ],
   "source": [
    "to_drop"
   ]
  },
  {
   "cell_type": "code",
   "execution_count": 12,
   "metadata": {},
   "outputs": [],
   "source": [
    "main_df = ut.swap_first_and_last_col(df1)\n",
    "main_df = ut.swap_first_and_last_col(main_df)"
   ]
  },
  {
   "cell_type": "code",
   "execution_count": 13,
   "metadata": {},
   "outputs": [],
   "source": [
    "summer_mid_week_morning_df = main_df.loc[(main_df['Season'] == 'Summer')&(main_df['weekday'].isin(mid_week)) & (main_df['time_binned'].isin(morning))]\n",
    "summer_mid_week_night_df = main_df.loc[(main_df['Season'] == 'Summer')&(main_df['weekday'].isin(mid_week)) & (main_df['time_binned'].isin(night))]\n",
    "summer_mid_week_noon_afternoon_df = main_df.loc[(main_df['Season'] == 'Summer')&(main_df['weekday'].isin(mid_week)) & (main_df['time_binned'].isin(noon_afternoon))]\n",
    "summer_mid_week_midnight_df = main_df.loc[(main_df['Season'] == 'Summer')&(main_df['weekday'].isin(mid_week)) & (main_df['time_binned'].isin(midnight))]\n",
    "\n",
    "fall_mid_week_night_df = main_df.loc[(main_df['Season'] == 'Fall') & (main_df['weekday'].isin(mid_week)) & (main_df['time_binned'].isin(night))]\n",
    "fall_mid_week_morning_df = main_df.loc[(main_df['Season'] == 'Fall') & (main_df['weekday'].isin(mid_week)) & (main_df['time_binned'].isin(morning))]\n",
    "fall_mid_week_noon_afternoon_df = main_df.loc[(main_df['Season'] == 'Fall') & (main_df['weekday'].isin(mid_week)) & (main_df['time_binned'].isin(noon_afternoon))]\n",
    "fall_mid_week_midnight_df = main_df.loc[(main_df['Season'] == 'Fall') & (main_df['weekday'].isin(mid_week)) & (main_df['time_binned'].isin(midnight))]\n",
    "\n",
    "winter_mid_week_morning_df = main_df.loc[(main_df['Season'] == 'Winter') & (main_df['weekday'].isin(mid_week)) & (main_df['time_binned'].isin(morning))]\n",
    "winter_mid_week_night_df = main_df.loc[(main_df['Season'] == 'Winter') & (main_df['weekday'].isin(mid_week)) & (main_df['time_binned'].isin(night))]\n",
    "winter_mid_week_noon_afternoon_df = main_df.loc[(main_df['Season'] == 'Winter') & (main_df['weekday'].isin(mid_week)) & (main_df['time_binned'].isin(noon_afternoon))]\n",
    "winter_mid_week_midnight_df = main_df.loc[(main_df['Season'] == 'Winter') & (main_df['weekday'].isin(mid_week)) & (main_df['time_binned'].isin(midnight))]\n",
    "\n",
    "spring_mid_week_morning_df = main_df.loc[(main_df['Season'] == 'Spring') & (main_df['weekday'].isin(mid_week)) & (main_df['time_binned'].isin(morning))]\n",
    "spring_mid_week_night_df = main_df.loc[(main_df['Season'] == 'Spring') & (main_df['weekday'].isin(mid_week)) & (main_df['time_binned'].isin(night))]\n",
    "spring_mid_week_noon_afternoon_df = main_df.loc[(main_df['Season'] == 'Spring') & (main_df['weekday'].isin(mid_week)) & (main_df['time_binned'].isin(noon_afternoon))]\n",
    "spring_mid_week_midnight_df = main_df.loc[(main_df['Season'] == 'Spring') & (main_df['weekday'].isin(mid_week)) & (main_df['time_binned'].isin(midnight))]"
   ]
  },
  {
   "cell_type": "code",
   "execution_count": 14,
   "metadata": {},
   "outputs": [],
   "source": [
    "summer_week_end_morning_df = main_df.loc[(main_df['Season'] == 'Summer')&(main_df['weekday'].isin(week_end)) & (main_df['time_binned'].isin(morning))]\n",
    "summer_week_end_night_df = main_df.loc[(main_df['Season'] == 'Summer')&(main_df['weekday'].isin(week_end)) & (main_df['time_binned'].isin(night))]\n",
    "summer_week_end_noon_afternoon_df = main_df.loc[(main_df['Season'] == 'Summer')&(main_df['weekday'].isin(week_end)) & (main_df['time_binned'].isin(noon_afternoon))]\n",
    "summer_week_end_midnight_df = main_df.loc[(main_df['Season'] == 'Summer')&(main_df['weekday'].isin(week_end)) & (main_df['time_binned'].isin(midnight))]\n",
    "\n",
    "fall_week_end_night_df = main_df.loc[(main_df['Season'] == 'Fall') & (main_df['weekday'].isin(week_end)) & (main_df['time_binned'].isin(night))]\n",
    "fall_week_end_morning_df = main_df.loc[(main_df['Season'] == 'Fall') & (main_df['weekday'].isin(week_end)) & (main_df['time_binned'].isin(morning))]\n",
    "fall_week_end_noon_afternoon_df = main_df.loc[(main_df['Season'] == 'Fall') & (main_df['weekday'].isin(week_end)) & (main_df['time_binned'].isin(noon_afternoon))]\n",
    "fall_week_end_midnight_df = main_df.loc[(main_df['Season'] == 'Fall') & (main_df['weekday'].isin(week_end)) & (main_df['time_binned'].isin(midnight))]\n",
    "\n",
    "winter_week_end_morning_df = main_df.loc[(main_df['Season'] == 'Winter') & (main_df['weekday'].isin(week_end)) & (main_df['time_binned'].isin(morning))]\n",
    "winter_week_end_night_df = main_df.loc[(main_df['Season'] == 'Winter') & (main_df['weekday'].isin(week_end)) & (main_df['time_binned'].isin(night))]\n",
    "winter_week_end_noon_afternoon_df = main_df.loc[(main_df['Season'] == 'Winter') & (main_df['weekday'].isin(week_end)) & (main_df['time_binned'].isin(noon_afternoon))]\n",
    "winter_week_end_midnight_df = main_df.loc[(main_df['Season'] == 'Winter') & (main_df['weekday'].isin(week_end)) & (main_df['time_binned'].isin(midnight))]\n",
    "\n",
    "spring_week_end_morning_df = main_df.loc[(main_df['Season'] == 'Spring') & (main_df['weekday'].isin(mid_week)) & (main_df['time_binned'].isin(morning))]\n",
    "spring_week_end_night_df = main_df.loc[(main_df['Season'] == 'Spring') & (main_df['weekday'].isin(week_end)) & (main_df['time_binned'].isin(night))]\n",
    "spring_week_end_noon_afternoon_df = main_df.loc[(main_df['Season'] == 'Spring') & (main_df['weekday'].isin(week_end)) & (main_df['time_binned'].isin(noon_afternoon))]\n",
    "spring_week_end_midnight_df = main_df.loc[(main_df['Season'] == 'Spring') & (main_df['weekday'].isin(week_end)) & (main_df['time_binned'].isin(midnight))]"
   ]
  },
  {
   "cell_type": "code",
   "execution_count": 15,
   "metadata": {},
   "outputs": [],
   "source": [
    "df_dict = {\n",
    "            'summer_mid_week_morning_df': summer_mid_week_morning_df,\n",
    "            'summer_mid_week_night_df': summer_mid_week_night_df ,\n",
    "            'summer_mid_week_noon_afternoon_df': summer_mid_week_noon_afternoon_df,\n",
    "            'summer_mid_week_midnight_df': summer_mid_week_midnight_df,\n",
    "            'fall_mid_week_night_df': fall_mid_week_night_df,\n",
    "            'fall_mid_week_morning_df':fall_mid_week_morning_df ,\n",
    "            'fall_mid_week_noon_afternoon_df':fall_mid_week_noon_afternoon_df ,\n",
    "            'fall_mid_week_midnight_df': fall_mid_week_midnight_df,\n",
    "            'winter_mid_week_morning_df': winter_mid_week_morning_df,\n",
    "            'winter_mid_week_night_df': winter_mid_week_night_df,\n",
    "            'winter_mid_week_noon_afternoon_df': winter_mid_week_noon_afternoon_df,\n",
    "            'winter_mid_week_midnight_df':winter_mid_week_midnight_df ,\n",
    "            'spring_mid_week_morning_df': spring_mid_week_morning_df,\n",
    "            'spring_mid_week_night_df': spring_mid_week_night_df,\n",
    "            'spring_mid_week_noon_afternoon_df': spring_mid_week_noon_afternoon_df,\n",
    "            'spring_mid_week_midnight_df': spring_mid_week_midnight_df,\n",
    "            'summer_week_end_morning_df' : summer_week_end_morning_df,\n",
    "            'summer_week_end_night_df': summer_week_end_night_df,\n",
    "            'summer_week_end_noon_afternoon_df': summer_week_end_noon_afternoon_df,\n",
    "            'summer_week_end_midnight_df': summer_week_end_midnight_df,\n",
    "            'fall_week_end_night_df': fall_week_end_night_df,\n",
    "            'fall_week_end_morning_df': fall_week_end_morning_df,\n",
    "            'fall_week_end_noon_afternoon_df': fall_week_end_noon_afternoon_df,\n",
    "            'fall_week_end_midnight_df': fall_week_end_midnight_df,\n",
    "            'winter_week_end_morning_df': winter_week_end_morning_df,\n",
    "            'winter_week_end_night_df': winter_week_end_night_df,\n",
    "            'winter_week_end_noon_afternoon_df' : winter_week_end_noon_afternoon_df,\n",
    "            'winter_week_end_midnight_df': winter_week_end_midnight_df,\n",
    "            'spring_week_end_morning_df': spring_week_end_morning_df,\n",
    "            'spring_week_end_night_df': spring_week_end_night_df,\n",
    "            'spring_week_end_noon_afternoon_df': spring_week_end_noon_afternoon_df,\n",
    "            'spring_week_end_midnight_df': spring_week_end_midnight_df,\n",
    "}"
   ]
  },
  {
   "cell_type": "code",
   "execution_count": 16,
   "metadata": {},
   "outputs": [
    {
     "name": "stderr",
     "output_type": "stream",
     "text": [
      "c:\\Users\\barka\\AppData\\Local\\Programs\\Python\\Python310\\lib\\site-packages\\xgboost\\compat.py:36: FutureWarning:\n",
      "\n",
      "pandas.Int64Index is deprecated and will be removed from pandas in a future version. Use pandas.Index with the appropriate dtype instead.\n",
      "\n"
     ]
    }
   ],
   "source": [
    "import rmse_script "
   ]
  },
  {
   "cell_type": "code",
   "execution_count": 18,
   "metadata": {},
   "outputs": [
    {
     "name": "stdout",
     "output_type": "stream",
     "text": [
      "Group summer_mid_week_morning_df RMSE of 99.97 and test RMSE of 98.97 target feature std of 115.34\n",
      "Group summer_mid_week_night_df RMSE of 124.56 and test RMSE of 131.14 target feature std of 132.93\n",
      "Group summer_mid_week_noon_afternoon_df RMSE of 121.13 and test RMSE of 123.10 target feature std of 140.72\n",
      "Group summer_mid_week_midnight_df RMSE of 41.56 and test RMSE of 40.39 target feature std of 44.52\n",
      "Group fall_mid_week_night_df RMSE of 146.32 and test RMSE of 148.04 target feature std of 156.26\n",
      "Group fall_mid_week_morning_df RMSE of 108.52 and test RMSE of 109.65 target feature std of 132.58\n",
      "Group fall_mid_week_noon_afternoon_df RMSE of 134.76 and test RMSE of 135.60 target feature std of 158.33\n",
      "Group fall_mid_week_midnight_df RMSE of 45.22 and test RMSE of 44.42 target feature std of 48.35\n",
      "Group winter_mid_week_morning_df RMSE of 121.89 and test RMSE of 121.29 target feature std of 142.96\n",
      "Group winter_mid_week_night_df RMSE of 155.21 and test RMSE of 155.49 target feature std of 166.04\n",
      "Group winter_mid_week_noon_afternoon_df RMSE of 141.74 and test RMSE of 141.64 target feature std of 173.60\n",
      "Group winter_mid_week_midnight_df RMSE of 50.42 and test RMSE of 51.21 target feature std of 54.63\n",
      "Group spring_mid_week_morning_df RMSE of 115.96 and test RMSE of 118.27 target feature std of 136.01\n",
      "Group spring_mid_week_night_df RMSE of 147.09 and test RMSE of 148.81 target feature std of 156.53\n",
      "Group spring_mid_week_noon_afternoon_df RMSE of 138.08 and test RMSE of 139.30 target feature std of 162.50\n",
      "Group spring_mid_week_midnight_df RMSE of 46.94 and test RMSE of 46.17 target feature std of 49.83\n",
      "Group summer_week_end_morning_df RMSE of 66.03 and test RMSE of 65.82 target feature std of 70.22\n",
      "Group summer_week_end_night_df RMSE of 95.67 and test RMSE of 94.31 target feature std of 101.78\n",
      "Group summer_week_end_noon_afternoon_df RMSE of 95.21 and test RMSE of 98.35 target feature std of 102.79\n",
      "Group summer_week_end_midnight_df RMSE of 86.12 and test RMSE of 92.27 target feature std of 98.76\n",
      "Group fall_week_end_night_df RMSE of 118.00 and test RMSE of 117.11 target feature std of 122.70\n",
      "Group fall_week_end_morning_df RMSE of 84.85 and test RMSE of 88.88 target feature std of 95.71\n",
      "Group fall_week_end_noon_afternoon_df RMSE of 112.01 and test RMSE of 113.39 target feature std of 133.99\n",
      "Group fall_week_end_midnight_df RMSE of 102.92 and test RMSE of 103.63 target feature std of 118.72\n",
      "Group winter_week_end_morning_df RMSE of 86.73 and test RMSE of 85.93 target feature std of 98.11\n",
      "Group winter_week_end_night_df RMSE of 127.07 and test RMSE of 133.10 target feature std of 134.58\n",
      "Group winter_week_end_noon_afternoon_df RMSE of 123.34 and test RMSE of 125.64 target feature std of 139.52\n",
      "Group winter_week_end_midnight_df RMSE of 111.25 and test RMSE of 115.22 target feature std of 129.69\n",
      "Group spring_week_end_morning_df RMSE of 115.96 and test RMSE of 118.27 target feature std of 136.01\n",
      "Group spring_week_end_night_df RMSE of 113.09 and test RMSE of 111.16 target feature std of 118.35\n",
      "Group spring_week_end_noon_afternoon_df RMSE of 113.47 and test RMSE of 116.89 target feature std of 123.34\n",
      "Group spring_week_end_midnight_df RMSE of 98.63 and test RMSE of 95.86 target feature std of 110.96\n"
     ]
    }
   ],
   "source": [
    "for key, value in df_dict.items():\n",
    "    x,y,t = rmse_script.get_rmse_for_df(value,key)\n",
    "    print(f'Group {key} RMSE of {x:.2f} and test RMSE of {t:.2f} target feature std of {y:.2f}')"
   ]
  }
 ],
 "metadata": {
  "kernelspec": {
   "display_name": "Python 3.10.3 64-bit",
   "language": "python",
   "name": "python3"
  },
  "language_info": {
   "codemirror_mode": {
    "name": "ipython",
    "version": 3
   },
   "file_extension": ".py",
   "mimetype": "text/x-python",
   "name": "python",
   "nbconvert_exporter": "python",
   "pygments_lexer": "ipython3",
   "version": "3.10.3"
  },
  "orig_nbformat": 4,
  "vscode": {
   "interpreter": {
    "hash": "f84aa2f6f16df8c9b1fc121cce14a4918ffa03f11977acd10a36cb0c577712fa"
   }
  }
 },
 "nbformat": 4,
 "nbformat_minor": 2
}
