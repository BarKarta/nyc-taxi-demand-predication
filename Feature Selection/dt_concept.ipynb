{
 "cells": [
  {
   "cell_type": "code",
   "execution_count": 3,
   "metadata": {},
   "outputs": [],
   "source": [
    "import pandas as pd\n",
    "import sys\n",
    "sys.path.append(\"..\")\n",
    "import utility.utility_functions as ut"
   ]
  },
  {
   "cell_type": "code",
   "execution_count": 18,
   "metadata": {},
   "outputs": [],
   "source": [
    "week_end = ['Saturday','Sunday']\n",
    "mid_week = ['Monday','Tuesday','Wednesday','Thursday','Friday']"
   ]
  },
  {
   "cell_type": "code",
   "execution_count": 12,
   "metadata": {},
   "outputs": [],
   "source": [
    "midnight = [\n",
    "            '00:00 - 00:59',\n",
    "            '01:00 - 01:59',\n",
    "            '02:00 - 02:59',\n",
    "            '03:00 - 03:59',\n",
    "            '04:00 - 04:59',\n",
    "            '05:00 - 05:59',\n",
    "            '06:00 - 06:59'\n",
    "            ]\n",
    "morning = [\n",
    "            '07:00 - 07:59',\n",
    "            '08:00 - 08:59',\n",
    "            '09:00 - 09:59',\n",
    "            '10:00 - 10:59',\n",
    "            '11:00 - 11:59'\n",
    "            ]\n",
    "noon_afternoon = [\n",
    "            '12:00 - 12:59',\n",
    "            '13:00 - 13:59',\n",
    "            '14:00 - 14:59',\n",
    "            '15:00 - 15:59',\n",
    "            '16:00 - 16:59',\n",
    "            '17:00 - 17:59',\n",
    "            '18:00 - 18:59',\n",
    "            '19:00 - 19:59'\n",
    "            ]\n",
    "night = [\n",
    "            '20:00 - 20:59',\n",
    "            '21:00 - 21:59',\n",
    "            '22:00 - 22:59',\n",
    "            '23:00 - 23:59'\n",
    "]"
   ]
  },
  {
   "cell_type": "code",
   "execution_count": 4,
   "metadata": {},
   "outputs": [],
   "source": [
    "df = ut.load_post_data_prep_all_zone()\n",
    "df.dropna(inplace=True)\n",
    "df = df.drop(df[df.trip_time < 5].index)\n",
    "df = df.drop('pickup_date',axis=1)\n",
    "df.reset_index(inplace=True,drop=True)"
   ]
  },
  {
   "cell_type": "code",
   "execution_count": 7,
   "metadata": {},
   "outputs": [],
   "source": [
    "main_df = ut.swap_first_and_last_col(df)"
   ]
  },
  {
   "cell_type": "code",
   "execution_count": 22,
   "metadata": {},
   "outputs": [],
   "source": [
    "mid_week_morning_df = main_df.loc[(main_df['weekday'].isin(mid_week)) & (main_df['time_binned'].isin(morning))]\n",
    "mid_week_night_df = main_df.loc[(main_df['weekday'].isin(mid_week)) & (main_df['time_binned'].isin(night))]\n",
    "mid_week_noon_afternoon_df = main_df.loc[(main_df['weekday'].isin(mid_week)) & (main_df['time_binned'].isin(noon_afternoon))]\n",
    "mid_week_midnight_df = main_df.loc[(main_df['weekday'].isin(mid_week)) & (main_df['time_binned'].isin(midnight))]\n"
   ]
  },
  {
   "cell_type": "code",
   "execution_count": 23,
   "metadata": {},
   "outputs": [],
   "source": [
    "week_end_morning_df = main_df.loc[(main_df['weekday'].isin(week_end)) & (main_df['time_binned'].isin(morning))]\n",
    "week_end_night_df = main_df.loc[(main_df['weekday'].isin(week_end)) & (main_df['time_binned'].isin(night))]\n",
    "week_end_noon_afternoon_df = main_df.loc[(main_df['weekday'].isin(week_end)) & (main_df['time_binned'].isin(noon_afternoon))]\n",
    "week_end_midnight_df = main_df.loc[(main_df['weekday'].isin(week_end)) & (main_df['time_binned'].isin(midnight))]"
   ]
  }
 ],
 "metadata": {
  "interpreter": {
   "hash": "145dce410f627c3f4bace442f30927e7d934fd52308d51a13091780548fd05f7"
  },
  "kernelspec": {
   "display_name": "Python 3.10.3 64-bit",
   "language": "python",
   "name": "python3"
  },
  "language_info": {
   "codemirror_mode": {
    "name": "ipython",
    "version": 3
   },
   "file_extension": ".py",
   "mimetype": "text/x-python",
   "name": "python",
   "nbconvert_exporter": "python",
   "pygments_lexer": "ipython3",
   "version": "3.10.3"
  },
  "orig_nbformat": 4
 },
 "nbformat": 4,
 "nbformat_minor": 2
}
