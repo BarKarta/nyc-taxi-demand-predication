{
 "cells": [
  {
   "cell_type": "code",
   "execution_count": 1,
   "metadata": {},
   "outputs": [],
   "source": [
    "import pandas as pd\n",
    "import sys\n",
    "sys.path.append(\"..\")\n",
    "import utility.utility_functions as ut"
   ]
  },
  {
   "cell_type": "code",
   "execution_count": 2,
   "metadata": {},
   "outputs": [],
   "source": [
    "week_end = ['Saturday','Sunday']\n",
    "mid_week = ['Monday','Tuesday','Wednesday','Thursday','Friday']"
   ]
  },
  {
   "cell_type": "code",
   "execution_count": 3,
   "metadata": {},
   "outputs": [],
   "source": [
    "midnight = [\n",
    "            '00:00 - 00:59',\n",
    "            '01:00 - 01:59',\n",
    "            '02:00 - 02:59',\n",
    "            '03:00 - 03:59',\n",
    "            '04:00 - 04:59',\n",
    "            '05:00 - 05:59',\n",
    "            '06:00 - 06:59'\n",
    "            ]\n",
    "morning = [\n",
    "            '07:00 - 07:59',\n",
    "            '08:00 - 08:59',\n",
    "            '09:00 - 09:59',\n",
    "            '10:00 - 10:59',\n",
    "            '11:00 - 11:59'\n",
    "            ]\n",
    "noon_afternoon = [\n",
    "            '12:00 - 12:59',\n",
    "            '13:00 - 13:59',\n",
    "            '14:00 - 14:59',\n",
    "            '15:00 - 15:59',\n",
    "            '16:00 - 16:59',\n",
    "            '17:00 - 17:59',\n",
    "            '18:00 - 18:59',\n",
    "            '19:00 - 19:59'\n",
    "            ]\n",
    "night = [\n",
    "            '20:00 - 20:59',\n",
    "            '21:00 - 21:59',\n",
    "            '22:00 - 22:59',\n",
    "            '23:00 - 23:59'\n",
    "]"
   ]
  },
  {
   "cell_type": "code",
   "execution_count": 4,
   "metadata": {},
   "outputs": [],
   "source": [
    "df = ut.load_post_data_prep_all_zone()\n",
    "df.dropna(inplace=True)\n",
    "df = df.drop(df[df.trip_time < 5].index)\n",
    "df = df.drop('pickup_date',axis=1)\n",
    "df.reset_index(inplace=True,drop=True)"
   ]
  },
  {
   "cell_type": "code",
   "execution_count": 5,
   "metadata": {},
   "outputs": [
    {
     "data": {
      "text/html": [
       "<div>\n",
       "<style scoped>\n",
       "    .dataframe tbody tr th:only-of-type {\n",
       "        vertical-align: middle;\n",
       "    }\n",
       "\n",
       "    .dataframe tbody tr th {\n",
       "        vertical-align: top;\n",
       "    }\n",
       "\n",
       "    .dataframe thead th {\n",
       "        text-align: right;\n",
       "    }\n",
       "</style>\n",
       "<table border=\"1\" class=\"dataframe\">\n",
       "  <thead>\n",
       "    <tr style=\"text-align: right;\">\n",
       "      <th></th>\n",
       "      <th>weekday</th>\n",
       "      <th>time_binned</th>\n",
       "      <th>Tmax</th>\n",
       "      <th>Tmin</th>\n",
       "      <th>Tavg</th>\n",
       "      <th>Tdep</th>\n",
       "      <th>HDD</th>\n",
       "      <th>CDD</th>\n",
       "      <th>Precipitation</th>\n",
       "      <th>new_snow</th>\n",
       "      <th>snow_depth</th>\n",
       "      <th>trip_distance</th>\n",
       "      <th>trip_time</th>\n",
       "      <th>speed</th>\n",
       "      <th>num_of_taxis</th>\n",
       "      <th>Zone</th>\n",
       "    </tr>\n",
       "  </thead>\n",
       "  <tbody>\n",
       "    <tr>\n",
       "      <th>0</th>\n",
       "      <td>Tuesday</td>\n",
       "      <td>00:00 - 00:59</td>\n",
       "      <td>58.0</td>\n",
       "      <td>39.0</td>\n",
       "      <td>48.5</td>\n",
       "      <td>13.3</td>\n",
       "      <td>16.0</td>\n",
       "      <td>0.0</td>\n",
       "      <td>0.06</td>\n",
       "      <td>0.0</td>\n",
       "      <td>0.0</td>\n",
       "      <td>2.543171</td>\n",
       "      <td>11.890650</td>\n",
       "      <td>12.167499</td>\n",
       "      <td>41</td>\n",
       "      <td>4</td>\n",
       "    </tr>\n",
       "    <tr>\n",
       "      <th>1</th>\n",
       "      <td>Tuesday</td>\n",
       "      <td>01:00 - 01:59</td>\n",
       "      <td>58.0</td>\n",
       "      <td>39.0</td>\n",
       "      <td>48.5</td>\n",
       "      <td>13.3</td>\n",
       "      <td>16.0</td>\n",
       "      <td>0.0</td>\n",
       "      <td>0.06</td>\n",
       "      <td>0.0</td>\n",
       "      <td>0.0</td>\n",
       "      <td>2.842436</td>\n",
       "      <td>14.737821</td>\n",
       "      <td>11.223936</td>\n",
       "      <td>78</td>\n",
       "      <td>4</td>\n",
       "    </tr>\n",
       "    <tr>\n",
       "      <th>2</th>\n",
       "      <td>Tuesday</td>\n",
       "      <td>02:00 - 02:59</td>\n",
       "      <td>58.0</td>\n",
       "      <td>39.0</td>\n",
       "      <td>48.5</td>\n",
       "      <td>13.3</td>\n",
       "      <td>16.0</td>\n",
       "      <td>0.0</td>\n",
       "      <td>0.06</td>\n",
       "      <td>0.0</td>\n",
       "      <td>0.0</td>\n",
       "      <td>2.235484</td>\n",
       "      <td>11.183333</td>\n",
       "      <td>11.346154</td>\n",
       "      <td>62</td>\n",
       "      <td>4</td>\n",
       "    </tr>\n",
       "    <tr>\n",
       "      <th>3</th>\n",
       "      <td>Tuesday</td>\n",
       "      <td>03:00 - 03:59</td>\n",
       "      <td>58.0</td>\n",
       "      <td>39.0</td>\n",
       "      <td>48.5</td>\n",
       "      <td>13.3</td>\n",
       "      <td>16.0</td>\n",
       "      <td>0.0</td>\n",
       "      <td>0.06</td>\n",
       "      <td>0.0</td>\n",
       "      <td>0.0</td>\n",
       "      <td>2.640308</td>\n",
       "      <td>11.701795</td>\n",
       "      <td>12.651760</td>\n",
       "      <td>65</td>\n",
       "      <td>4</td>\n",
       "    </tr>\n",
       "    <tr>\n",
       "      <th>4</th>\n",
       "      <td>Tuesday</td>\n",
       "      <td>04:00 - 04:59</td>\n",
       "      <td>58.0</td>\n",
       "      <td>39.0</td>\n",
       "      <td>48.5</td>\n",
       "      <td>13.3</td>\n",
       "      <td>16.0</td>\n",
       "      <td>0.0</td>\n",
       "      <td>0.06</td>\n",
       "      <td>0.0</td>\n",
       "      <td>0.0</td>\n",
       "      <td>2.635000</td>\n",
       "      <td>11.158889</td>\n",
       "      <td>13.186688</td>\n",
       "      <td>30</td>\n",
       "      <td>4</td>\n",
       "    </tr>\n",
       "  </tbody>\n",
       "</table>\n",
       "</div>"
      ],
      "text/plain": [
       "   weekday    time_binned  Tmax  Tmin  Tavg  Tdep   HDD  CDD  Precipitation  \\\n",
       "0  Tuesday  00:00 - 00:59  58.0  39.0  48.5  13.3  16.0  0.0           0.06   \n",
       "1  Tuesday  01:00 - 01:59  58.0  39.0  48.5  13.3  16.0  0.0           0.06   \n",
       "2  Tuesday  02:00 - 02:59  58.0  39.0  48.5  13.3  16.0  0.0           0.06   \n",
       "3  Tuesday  03:00 - 03:59  58.0  39.0  48.5  13.3  16.0  0.0           0.06   \n",
       "4  Tuesday  04:00 - 04:59  58.0  39.0  48.5  13.3  16.0  0.0           0.06   \n",
       "\n",
       "   new_snow  snow_depth  trip_distance  trip_time      speed  num_of_taxis  \\\n",
       "0       0.0         0.0       2.543171  11.890650  12.167499            41   \n",
       "1       0.0         0.0       2.842436  14.737821  11.223936            78   \n",
       "2       0.0         0.0       2.235484  11.183333  11.346154            62   \n",
       "3       0.0         0.0       2.640308  11.701795  12.651760            65   \n",
       "4       0.0         0.0       2.635000  11.158889  13.186688            30   \n",
       "\n",
       "   Zone  \n",
       "0     4  \n",
       "1     4  \n",
       "2     4  \n",
       "3     4  \n",
       "4     4  "
      ]
     },
     "execution_count": 5,
     "metadata": {},
     "output_type": "execute_result"
    }
   ],
   "source": [
    "df.head()"
   ]
  },
  {
   "cell_type": "code",
   "execution_count": 6,
   "metadata": {},
   "outputs": [],
   "source": [
    "df.drop(['trip_distance','trip_time','speed'],axis=1,inplace=True)"
   ]
  },
  {
   "cell_type": "code",
   "execution_count": 7,
   "metadata": {},
   "outputs": [],
   "source": [
    "main_df = ut.swap_first_and_last_col(df)"
   ]
  },
  {
   "cell_type": "code",
   "execution_count": 8,
   "metadata": {},
   "outputs": [],
   "source": [
    "mid_week_morning_df = main_df.loc[(main_df['weekday'].isin(mid_week)) & (main_df['time_binned'].isin(morning))]\n",
    "mid_week_night_df = main_df.loc[(main_df['weekday'].isin(mid_week)) & (main_df['time_binned'].isin(night))]\n",
    "mid_week_noon_afternoon_df = main_df.loc[(main_df['weekday'].isin(mid_week)) & (main_df['time_binned'].isin(noon_afternoon))]\n",
    "mid_week_midnight_df = main_df.loc[(main_df['weekday'].isin(mid_week)) & (main_df['time_binned'].isin(midnight))]\n"
   ]
  },
  {
   "cell_type": "code",
   "execution_count": 9,
   "metadata": {},
   "outputs": [],
   "source": [
    "week_end_morning_df = main_df.loc[(main_df['weekday'].isin(week_end)) & (main_df['time_binned'].isin(morning))]\n",
    "week_end_night_df = main_df.loc[(main_df['weekday'].isin(week_end)) & (main_df['time_binned'].isin(night))]\n",
    "week_end_noon_afternoon_df = main_df.loc[(main_df['weekday'].isin(week_end)) & (main_df['time_binned'].isin(noon_afternoon))]\n",
    "week_end_midnight_df = main_df.loc[(main_df['weekday'].isin(week_end)) & (main_df['time_binned'].isin(midnight))]"
   ]
  },
  {
   "cell_type": "code",
   "execution_count": 10,
   "metadata": {},
   "outputs": [],
   "source": [
    "df_dict =  {\n",
    "                'mid_week_morning_df':mid_week_morning_df,\n",
    "                'mid_week_night_df':mid_week_night_df,\n",
    "                'mid_week_noon_afternoon_df':mid_week_noon_afternoon_df,\n",
    "                'mid_week_midnight_df':mid_week_midnight_df,\n",
    "                'week_end_morning_df':week_end_morning_df,\n",
    "                'week_end_night_df':week_end_night_df,\n",
    "                'week_end_noon_afternoon_df':week_end_noon_afternoon_df,\n",
    "                'week_end_midnight_df':week_end_midnight_df\n",
    "}"
   ]
  },
  {
   "cell_type": "code",
   "execution_count": 11,
   "metadata": {},
   "outputs": [
    {
     "name": "stderr",
     "output_type": "stream",
     "text": [
      "C:\\Users\\barka\\AppData\\Local\\Programs\\Python\\Python310\\lib\\site-packages\\xgboost\\compat.py:36: FutureWarning: pandas.Int64Index is deprecated and will be removed from pandas in a future version. Use pandas.Index with the appropriate dtype instead.\n",
      "  from pandas import MultiIndex, Int64Index\n"
     ]
    }
   ],
   "source": [
    "import rmse_script "
   ]
  },
  {
   "cell_type": "code",
   "execution_count": 12,
   "metadata": {},
   "outputs": [
    {
     "name": "stdout",
     "output_type": "stream",
     "text": [
      "Group mid_week_morning_df RMSE of 109.84 and target feature std of 132.55\n",
      "Group mid_week_night_df RMSE of 144.95 and target feature std of 153.70\n",
      "Group mid_week_noon_afternoon_df RMSE of 136.81 and target feature std of 159.56\n",
      "Group mid_week_midnight_df RMSE of 45.50 and target feature std of 49.47\n",
      "Group week_end_morning_df RMSE of 80.56 and target feature std of 89.38\n",
      "Group week_end_night_df RMSE of 113.55 and target feature std of 120.24\n",
      "Group week_end_noon_afternoon_df RMSE of 112.69 and target feature std of 126.58\n",
      "Group week_end_midnight_df RMSE of 102.37 and target feature std of 115.24\n"
     ]
    }
   ],
   "source": [
    "for key, value in df_dict.items():\n",
    "    x,y = rmse_script.get_rmse_for_df(value,key)\n",
    "    print(f'Group {key} RMSE of {x:.2f} and target feature std of {y:.2f}')"
   ]
  }
 ],
 "metadata": {
  "interpreter": {
   "hash": "145dce410f627c3f4bace442f30927e7d934fd52308d51a13091780548fd05f7"
  },
  "kernelspec": {
   "display_name": "Python 3.10.3 64-bit",
   "language": "python",
   "name": "python3"
  },
  "language_info": {
   "codemirror_mode": {
    "name": "ipython",
    "version": 3
   },
   "file_extension": ".py",
   "mimetype": "text/x-python",
   "name": "python",
   "nbconvert_exporter": "python",
   "pygments_lexer": "ipython3",
   "version": "3.10.3"
  },
  "orig_nbformat": 4
 },
 "nbformat": 4,
 "nbformat_minor": 2
}
