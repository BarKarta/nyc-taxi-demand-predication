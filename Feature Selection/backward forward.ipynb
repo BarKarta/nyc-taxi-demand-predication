{
 "cells": [
  {
   "cell_type": "code",
   "execution_count": 2,
   "metadata": {},
   "outputs": [],
   "source": [
    "import sys\n",
    "import warnings\n",
    "warnings.simplefilter(action='ignore', category=FutureWarning)\n",
    "import pandas as pd\n",
    "import numpy as np\n",
    "sys.path.append(\"..\")\n",
    "import utility.utility_functions as ut\n",
    "from sklearn.linear_model import LinearRegression\n",
    "from sklearn.preprocessing import MinMaxScaler"
   ]
  },
  {
   "cell_type": "code",
   "execution_count": 3,
   "metadata": {},
   "outputs": [],
   "source": [
    "df = ut.load_post_data_prep_all_zone()\n",
    "df.dropna(inplace=True)\n",
    "df = df.drop(df[df.trip_time < 5].index)\n",
    "df = df.drop('pickup_date',axis=1)\n",
    "df.reset_index(inplace=True,drop=True)"
   ]
  },
  {
   "cell_type": "code",
   "execution_count": 4,
   "metadata": {},
   "outputs": [],
   "source": [
    "main_df = ut.get_dummies(['weekday','time_binned'],df)\n",
    "main_df = ut.swap_first_and_last_col(main_df)\n",
    "y, X = ut.split_X_y(main_df,'num_of_taxis')"
   ]
  },
  {
   "cell_type": "code",
   "execution_count": 5,
   "metadata": {},
   "outputs": [],
   "source": [
    "scaler = MinMaxScaler()\n",
    "scaled_X = pd.DataFrame(scaler.fit_transform(X),columns=X.columns)"
   ]
  },
  {
   "cell_type": "code",
   "execution_count": 6,
   "metadata": {},
   "outputs": [
    {
     "name": "stdout",
     "output_type": "stream",
     "text": [
      "Feature: Zone, Score: 0.32]\n",
      "Feature: 00:00 - 00:59, Score: 800672609152.22]\n",
      "Feature: 01:00 - 01:59, Score: 800672609141.45]\n",
      "Feature: 02:00 - 02:59, Score: 800672609131.81]\n",
      "Feature: 03:00 - 03:59, Score: 800672609122.36]\n",
      "Feature: 04:00 - 04:59, Score: 800672609121.13]\n",
      "Feature: 05:00 - 05:59, Score: 800672609123.67]\n",
      "Feature: 06:00 - 06:59, Score: 800672609142.59]\n",
      "Feature: 07:00 - 07:59, Score: 800672609153.39]\n",
      "Feature: 08:00 - 08:59, Score: 800672609153.21]\n",
      "Feature: 09:00 - 09:59, Score: 800672609146.51]\n",
      "Feature: 10:00 - 10:59, Score: 800672609145.08]\n",
      "Feature: 11:00 - 11:59, Score: 800672609146.50]\n",
      "Feature: 12:00 - 12:59, Score: 800672609152.29]\n",
      "Feature: 13:00 - 13:59, Score: 800672609152.82]\n",
      "Feature: 14:00 - 14:59, Score: 800672609157.26]\n",
      "Feature: 15:00 - 15:59, Score: 800672609157.07]\n",
      "Feature: 16:00 - 16:59, Score: 800672609149.74]\n",
      "Feature: 17:00 - 17:59, Score: 800672609173.18]\n",
      "Feature: 18:00 - 18:59, Score: 800672609199.01]\n",
      "Feature: 19:00 - 19:59, Score: 800672609200.93]\n",
      "Feature: 20:00 - 20:59, Score: 800672609195.11]\n",
      "Feature: 21:00 - 21:59, Score: 800672609202.01]\n",
      "Feature: 22:00 - 22:59, Score: 800672609198.79]\n",
      "Feature: 23:00 - 23:59, Score: 800672609174.28]\n",
      "Feature: Friday, Score: -89463078838.90]\n",
      "Feature: Monday, Score: -89463078844.06]\n",
      "Feature: Saturday, Score: -89463078832.29]\n",
      "Feature: Sunday, Score: -89463078839.75]\n",
      "Feature: Thursday, Score: -89463078836.15]\n",
      "Feature: Tuesday, Score: -89463078837.76]\n",
      "Feature: Wednesday, Score: -89463078836.53]\n",
      "Feature: Tmax, Score: 1501092334742.02]\n",
      "Feature: Tmin, Score: 1501092334741.33]\n",
      "Feature: Tavg, Score: -3002184669485.63]\n",
      "Feature: Tdep, Score: 0.15]\n",
      "Feature: HDD, Score: -1.89]\n",
      "Feature: CDD, Score: 1.68]\n",
      "Feature: Precipitation, Score: 1.23]\n",
      "Feature: new_snow, Score: -2.25]\n",
      "Feature: snow_depth, Score: 2.65]\n",
      "Feature: trip_distance, Score: 28.20]\n",
      "Feature: trip_time, Score: -8.87]\n",
      "Feature: speed, Score: -26.83]\n"
     ]
    }
   ],
   "source": [
    "# Feature score \n",
    "features = main_df.columns.tolist()\n",
    "model_lr = LinearRegression()\n",
    "model_lr.fit(X,y)\n",
    "importance = model_lr.coef_\n",
    "for i,v in enumerate(importance):\n",
    "\tprint(f'Feature: {features[i]}, Score: {v:.2f}]')"
   ]
  },
  {
   "cell_type": "code",
   "execution_count": 7,
   "metadata": {},
   "outputs": [],
   "source": [
    "feature_dict = {'Features':features[:-1],'Score':importance}\n",
    "feature_importance_sorted = pd.DataFrame(feature_dict).sort_values(by = ['Score'],ascending=True)['Features']"
   ]
  },
  {
   "cell_type": "code",
   "execution_count": 8,
   "metadata": {},
   "outputs": [],
   "source": [
    "from sklearn.metrics import mean_squared_error\n",
    "from sklearn.model_selection import train_test_split\n",
    "import xgboost as xgb\n",
    "#Backwards\n",
    "X_train_scaled, X_test_scaled, y_train, y_test = train_test_split(scaled_X, y, test_size=0.3, random_state=123)\n",
    "X_train_scaled_backwards = X_train_scaled.copy()\n",
    "backward_rmse_list = []\n",
    "backward_best_rmse   = np.std(y)\n",
    "for feature in (feature_importance_sorted):\n",
    "    xg_reg = xgb.XGBRegressor(objective ='reg:squarederror', colsample_bytree = 0.3, learning_rate = 0.1,\n",
    "                max_depth = 5, alpha = 10, n_estimators = 10)\n",
    "    xg_reg.fit(X_train_scaled_backwards,y_train)\n",
    "    train_pred = xg_reg.predict(X_train_scaled_backwards)\n",
    "    rmse_train = np.sqrt(mean_squared_error(y_train,train_pred))\n",
    "    backward_rmse_list.append(rmse_train)\n",
    "    if backward_best_rmse > rmse_train:\n",
    "        backward_best_rmse = rmse_train\n",
    "        backward_best_features = X_train_scaled_backwards.columns.tolist()\n",
    "    X_train_scaled_backwards.drop(feature,axis=1,inplace = True)"
   ]
  },
  {
   "cell_type": "code",
   "execution_count": 9,
   "metadata": {},
   "outputs": [
    {
     "name": "stdout",
     "output_type": "stream",
     "text": [
      "Target Feature STD: 136.78, Our best rmse is: 115.40 with 36 features and the features are: ['Zone', '00:00 - 00:59', '01:00 - 01:59', '02:00 - 02:59', '03:00 - 03:59', '04:00 - 04:59', '05:00 - 05:59', '06:00 - 06:59', '07:00 - 07:59', '08:00 - 08:59', '09:00 - 09:59', '10:00 - 10:59', '11:00 - 11:59', '12:00 - 12:59', '13:00 - 13:59', '14:00 - 14:59', '15:00 - 15:59', '16:00 - 16:59', '17:00 - 17:59', '18:00 - 18:59', '19:00 - 19:59', '20:00 - 20:59', '21:00 - 21:59', '22:00 - 22:59', '23:00 - 23:59', 'Tmax', 'Tmin', 'Tdep', 'HDD', 'CDD', 'Precipitation', 'new_snow', 'snow_depth', 'trip_distance', 'trip_time', 'speed']\n"
     ]
    }
   ],
   "source": [
    "print(f'Target Feature STD: {np.std(y):.2f}, Our best rmse is: {backward_best_rmse:.2f} with {len(backward_best_features)} features and the features are: {backward_best_features}')"
   ]
  },
  {
   "cell_type": "code",
   "execution_count": 10,
   "metadata": {},
   "outputs": [],
   "source": [
    "#Forwards\n",
    "forward_rmse_list = []\n",
    "forward_best_rmse = np.std(y)\n",
    "forward_list = []\n",
    "X_train_scaled_forward = []\n",
    "for feature in list(reversed(feature_importance_sorted.tolist())):\n",
    "    forward_list.append(feature)\n",
    "    X_train_scaled_forward = X_train_scaled[forward_list]\n",
    "    xg_reg = xgb.XGBRegressor(objective ='reg:squarederror', colsample_bytree = 0.3, learning_rate = 0.1,\n",
    "                max_depth = 5, alpha = 10, n_estimators = 10)\n",
    "    xg_reg.fit(X_train_scaled_forward,y_train)\n",
    "    train_pred = xg_reg.predict(X_train_scaled_forward)\n",
    "    rmse_train = np.sqrt(mean_squared_error(y_train,train_pred))\n",
    "    forward_rmse_list.append(rmse_train)\n",
    "    if forward_best_rmse > rmse_train:\n",
    "        forward_best_rmse = rmse_train\n",
    "        forward_best_features = X_train_scaled_forward.columns.tolist()"
   ]
  },
  {
   "cell_type": "code",
   "execution_count": 11,
   "metadata": {},
   "outputs": [
    {
     "name": "stdout",
     "output_type": "stream",
     "text": [
      "Target Feature STD: 136.78, Our best rmse is: 115.92 with 37 features and the features are: ['Tmax', 'Tmin', '21:00 - 21:59', '19:00 - 19:59', '18:00 - 18:59', '22:00 - 22:59', '20:00 - 20:59', '23:00 - 23:59', '17:00 - 17:59', '14:00 - 14:59', '15:00 - 15:59', '07:00 - 07:59', '08:00 - 08:59', '13:00 - 13:59', '12:00 - 12:59', '00:00 - 00:59', '16:00 - 16:59', '09:00 - 09:59', '11:00 - 11:59', '10:00 - 10:59', '06:00 - 06:59', '01:00 - 01:59', '02:00 - 02:59', '05:00 - 05:59', '03:00 - 03:59', '04:00 - 04:59', 'trip_distance', 'snow_depth', 'CDD', 'Precipitation', 'Zone', 'Tdep', 'HDD', 'new_snow', 'trip_time', 'speed', 'Saturday']\n"
     ]
    }
   ],
   "source": [
    "print(f'Target Feature STD: {np.std(y):.2f}, Our best rmse is: {forward_best_rmse:.2f} with {len(forward_best_features)} features and the features are: {forward_best_features}')"
   ]
  },
  {
   "cell_type": "code",
   "execution_count": 12,
   "metadata": {},
   "outputs": [],
   "source": [
    "with open('../best_features.txt','w') as file:\n",
    "    for feature in backward_best_features:\n",
    "        file.write(\"%s\\n\"%feature)"
   ]
  }
 ],
 "metadata": {
  "interpreter": {
   "hash": "145dce410f627c3f4bace442f30927e7d934fd52308d51a13091780548fd05f7"
  },
  "kernelspec": {
   "display_name": "Python 3.10.3 64-bit",
   "language": "python",
   "name": "python3"
  },
  "language_info": {
   "codemirror_mode": {
    "name": "ipython",
    "version": 3
   },
   "file_extension": ".py",
   "mimetype": "text/x-python",
   "name": "python",
   "nbconvert_exporter": "python",
   "pygments_lexer": "ipython3",
   "version": "3.10.3"
  },
  "orig_nbformat": 4
 },
 "nbformat": 4,
 "nbformat_minor": 2
}
